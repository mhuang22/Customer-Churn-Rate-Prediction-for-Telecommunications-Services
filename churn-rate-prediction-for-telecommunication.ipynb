{
 "cells": [
  {
   "cell_type": "markdown",
   "id": "0ce22495",
   "metadata": {
    "papermill": {
     "duration": 0.03083,
     "end_time": "2021-09-30T19:50:57.778607",
     "exception": false,
     "start_time": "2021-09-30T19:50:57.747777",
     "status": "completed"
    },
    "tags": []
   },
   "source": [
    "Using supervised machine learning medels to identify customers who are likely to churn in the future. I will analyze top factors that influence user retention."
   ]
  },
  {
   "cell_type": "markdown",
   "id": "4c25bbd2",
   "metadata": {
    "papermill": {
     "duration": 0.028735,
     "end_time": "2021-09-30T19:50:57.838581",
     "exception": false,
     "start_time": "2021-09-30T19:50:57.809846",
     "status": "completed"
    },
    "tags": []
   },
   "source": [
    "Contents \n",
    "1. Exploratory Data Analysis and Data Preprocessing\n",
    "2. Feature Preprocessing\n",
    "3. Model Training and Results Evaluation\n",
    "4. Feature Selection "
   ]
  },
  {
   "cell_type": "code",
   "execution_count": 1,
   "id": "976f54fa",
   "metadata": {
    "execution": {
     "iopub.execute_input": "2021-09-30T19:50:57.901610Z",
     "iopub.status.busy": "2021-09-30T19:50:57.900452Z",
     "iopub.status.idle": "2021-09-30T19:50:58.935237Z",
     "shell.execute_reply": "2021-09-30T19:50:58.934652Z",
     "shell.execute_reply.started": "2021-09-30T05:26:02.137253Z"
    },
    "papermill": {
     "duration": 1.067824,
     "end_time": "2021-09-30T19:50:58.935434",
     "exception": false,
     "start_time": "2021-09-30T19:50:57.867610",
     "status": "completed"
    },
    "tags": []
   },
   "outputs": [
    {
     "name": "stdout",
     "output_type": "stream",
     "text": [
      "/kaggle/input/churn0/churn.csv\n"
     ]
    }
   ],
   "source": [
    "# This Python 3 environment comes with many helpful analytics libraries installed\n",
    "# It is defined by the kaggle/python Docker image: https://github.com/kaggle/docker-python\n",
    "# For example, here's several helpful packages to load\n",
    "\n",
    "import numpy as np # linear algebra\n",
    "import pandas as pd # data processing, CSV file I/O (e.g. pd.read_csv)\n",
    "import matplotlib.pyplot as plt\n",
    "import seaborn as sns\n",
    "from sklearn.model_selection import train_test_split\n",
    "\n",
    "# Input data files are available in the read-only \"../input/\" directory\n",
    "# For example, running this (by clicking run or pressing Shift+Enter) will list all files under the input directory\n",
    "\n",
    "import os\n",
    "for dirname, _, filenames in os.walk('/kaggle/input'):\n",
    "    for filename in filenames:\n",
    "        print(os.path.join(dirname, filename))\n",
    "\n",
    "# You can write up to 20GB to the current directory (/kaggle/working/) that gets preserved as output when you create a version using \"Save & Run All\" \n",
    "# You can also write temporary files to /kaggle/temp/, but they won't be saved outside of the current session"
   ]
  },
  {
   "cell_type": "code",
   "execution_count": 2,
   "id": "4947d440",
   "metadata": {
    "execution": {
     "iopub.execute_input": "2021-09-30T19:50:58.999114Z",
     "iopub.status.busy": "2021-09-30T19:50:58.998471Z",
     "iopub.status.idle": "2021-09-30T19:50:59.070295Z",
     "shell.execute_reply": "2021-09-30T19:50:59.069828Z",
     "shell.execute_reply.started": "2021-09-30T05:26:02.153384Z"
    },
    "papermill": {
     "duration": 0.105581,
     "end_time": "2021-09-30T19:50:59.070441",
     "exception": false,
     "start_time": "2021-09-30T19:50:58.964860",
     "status": "completed"
    },
    "tags": []
   },
   "outputs": [
    {
     "data": {
      "text/html": [
       "<div>\n",
       "<style scoped>\n",
       "    .dataframe tbody tr th:only-of-type {\n",
       "        vertical-align: middle;\n",
       "    }\n",
       "\n",
       "    .dataframe tbody tr th {\n",
       "        vertical-align: top;\n",
       "    }\n",
       "\n",
       "    .dataframe thead th {\n",
       "        text-align: right;\n",
       "    }\n",
       "</style>\n",
       "<table border=\"1\" class=\"dataframe\">\n",
       "  <thead>\n",
       "    <tr style=\"text-align: right;\">\n",
       "      <th></th>\n",
       "      <th>state</th>\n",
       "      <th>account_length</th>\n",
       "      <th>area_code</th>\n",
       "      <th>phone_number</th>\n",
       "      <th>intl_plan</th>\n",
       "      <th>voice_mail_plan</th>\n",
       "      <th>number_vmail_messages</th>\n",
       "      <th>total_day_minutes</th>\n",
       "      <th>total_day_calls</th>\n",
       "      <th>total_day_charge</th>\n",
       "      <th>...</th>\n",
       "      <th>total_eve_calls</th>\n",
       "      <th>total_eve_charge</th>\n",
       "      <th>total_night_minutes</th>\n",
       "      <th>total_night_calls</th>\n",
       "      <th>total_night_charge</th>\n",
       "      <th>total_intl_minutes</th>\n",
       "      <th>total_intl_calls</th>\n",
       "      <th>total_intl_charge</th>\n",
       "      <th>number_customer_service_calls</th>\n",
       "      <th>churned</th>\n",
       "    </tr>\n",
       "  </thead>\n",
       "  <tbody>\n",
       "    <tr>\n",
       "      <th>0</th>\n",
       "      <td>KS</td>\n",
       "      <td>128</td>\n",
       "      <td>415</td>\n",
       "      <td>382-4657</td>\n",
       "      <td>no</td>\n",
       "      <td>yes</td>\n",
       "      <td>25</td>\n",
       "      <td>265.1</td>\n",
       "      <td>110</td>\n",
       "      <td>45.07</td>\n",
       "      <td>...</td>\n",
       "      <td>99</td>\n",
       "      <td>16.78</td>\n",
       "      <td>244.7</td>\n",
       "      <td>91</td>\n",
       "      <td>11.01</td>\n",
       "      <td>10.0</td>\n",
       "      <td>3</td>\n",
       "      <td>2.70</td>\n",
       "      <td>1</td>\n",
       "      <td>False.</td>\n",
       "    </tr>\n",
       "    <tr>\n",
       "      <th>1</th>\n",
       "      <td>OH</td>\n",
       "      <td>107</td>\n",
       "      <td>415</td>\n",
       "      <td>371-7191</td>\n",
       "      <td>no</td>\n",
       "      <td>yes</td>\n",
       "      <td>26</td>\n",
       "      <td>161.6</td>\n",
       "      <td>123</td>\n",
       "      <td>27.47</td>\n",
       "      <td>...</td>\n",
       "      <td>103</td>\n",
       "      <td>16.62</td>\n",
       "      <td>254.4</td>\n",
       "      <td>103</td>\n",
       "      <td>11.45</td>\n",
       "      <td>13.7</td>\n",
       "      <td>3</td>\n",
       "      <td>3.70</td>\n",
       "      <td>1</td>\n",
       "      <td>False.</td>\n",
       "    </tr>\n",
       "    <tr>\n",
       "      <th>2</th>\n",
       "      <td>NJ</td>\n",
       "      <td>137</td>\n",
       "      <td>415</td>\n",
       "      <td>358-1921</td>\n",
       "      <td>no</td>\n",
       "      <td>no</td>\n",
       "      <td>0</td>\n",
       "      <td>243.4</td>\n",
       "      <td>114</td>\n",
       "      <td>41.38</td>\n",
       "      <td>...</td>\n",
       "      <td>110</td>\n",
       "      <td>10.30</td>\n",
       "      <td>162.6</td>\n",
       "      <td>104</td>\n",
       "      <td>7.32</td>\n",
       "      <td>12.2</td>\n",
       "      <td>5</td>\n",
       "      <td>3.29</td>\n",
       "      <td>0</td>\n",
       "      <td>False.</td>\n",
       "    </tr>\n",
       "    <tr>\n",
       "      <th>3</th>\n",
       "      <td>OH</td>\n",
       "      <td>84</td>\n",
       "      <td>408</td>\n",
       "      <td>375-9999</td>\n",
       "      <td>yes</td>\n",
       "      <td>no</td>\n",
       "      <td>0</td>\n",
       "      <td>299.4</td>\n",
       "      <td>71</td>\n",
       "      <td>50.90</td>\n",
       "      <td>...</td>\n",
       "      <td>88</td>\n",
       "      <td>5.26</td>\n",
       "      <td>196.9</td>\n",
       "      <td>89</td>\n",
       "      <td>8.86</td>\n",
       "      <td>6.6</td>\n",
       "      <td>7</td>\n",
       "      <td>1.78</td>\n",
       "      <td>2</td>\n",
       "      <td>False.</td>\n",
       "    </tr>\n",
       "    <tr>\n",
       "      <th>4</th>\n",
       "      <td>OK</td>\n",
       "      <td>75</td>\n",
       "      <td>415</td>\n",
       "      <td>330-6626</td>\n",
       "      <td>yes</td>\n",
       "      <td>no</td>\n",
       "      <td>0</td>\n",
       "      <td>166.7</td>\n",
       "      <td>113</td>\n",
       "      <td>28.34</td>\n",
       "      <td>...</td>\n",
       "      <td>122</td>\n",
       "      <td>12.61</td>\n",
       "      <td>186.9</td>\n",
       "      <td>121</td>\n",
       "      <td>8.41</td>\n",
       "      <td>10.1</td>\n",
       "      <td>3</td>\n",
       "      <td>2.73</td>\n",
       "      <td>3</td>\n",
       "      <td>False.</td>\n",
       "    </tr>\n",
       "  </tbody>\n",
       "</table>\n",
       "<p>5 rows × 21 columns</p>\n",
       "</div>"
      ],
      "text/plain": [
       "  state  account_length  area_code phone_number intl_plan voice_mail_plan  \\\n",
       "0    KS             128        415     382-4657        no             yes   \n",
       "1    OH             107        415     371-7191        no             yes   \n",
       "2    NJ             137        415     358-1921        no              no   \n",
       "3    OH              84        408     375-9999       yes              no   \n",
       "4    OK              75        415     330-6626       yes              no   \n",
       "\n",
       "   number_vmail_messages  total_day_minutes  total_day_calls  \\\n",
       "0                     25              265.1              110   \n",
       "1                     26              161.6              123   \n",
       "2                      0              243.4              114   \n",
       "3                      0              299.4               71   \n",
       "4                      0              166.7              113   \n",
       "\n",
       "   total_day_charge  ...  total_eve_calls  total_eve_charge  \\\n",
       "0             45.07  ...               99             16.78   \n",
       "1             27.47  ...              103             16.62   \n",
       "2             41.38  ...              110             10.30   \n",
       "3             50.90  ...               88              5.26   \n",
       "4             28.34  ...              122             12.61   \n",
       "\n",
       "   total_night_minutes  total_night_calls  total_night_charge  \\\n",
       "0                244.7                 91               11.01   \n",
       "1                254.4                103               11.45   \n",
       "2                162.6                104                7.32   \n",
       "3                196.9                 89                8.86   \n",
       "4                186.9                121                8.41   \n",
       "\n",
       "   total_intl_minutes  total_intl_calls  total_intl_charge  \\\n",
       "0                10.0                 3               2.70   \n",
       "1                13.7                 3               3.70   \n",
       "2                12.2                 5               3.29   \n",
       "3                 6.6                 7               1.78   \n",
       "4                10.1                 3               2.73   \n",
       "\n",
       "   number_customer_service_calls  churned  \n",
       "0                              1   False.  \n",
       "1                              1   False.  \n",
       "2                              0   False.  \n",
       "3                              2   False.  \n",
       "4                              3   False.  \n",
       "\n",
       "[5 rows x 21 columns]"
      ]
     },
     "execution_count": 2,
     "metadata": {},
     "output_type": "execute_result"
    }
   ],
   "source": [
    "df = pd.read_csv(\"../input/churn0/churn.csv\")\n",
    "df.head()"
   ]
  },
  {
   "cell_type": "markdown",
   "id": "dbac6df2",
   "metadata": {
    "papermill": {
     "duration": 0.029071,
     "end_time": "2021-09-30T19:50:59.129123",
     "exception": false,
     "start_time": "2021-09-30T19:50:59.100052",
     "status": "completed"
    },
    "tags": []
   },
   "source": [
    "# Part1: Exploratory Data Analysis and Data Preprocessing"
   ]
  },
  {
   "cell_type": "code",
   "execution_count": 3,
   "id": "6d5c427a",
   "metadata": {
    "execution": {
     "iopub.execute_input": "2021-09-30T19:50:59.192904Z",
     "iopub.status.busy": "2021-09-30T19:50:59.192170Z",
     "iopub.status.idle": "2021-09-30T19:50:59.195601Z",
     "shell.execute_reply": "2021-09-30T19:50:59.195114Z",
     "shell.execute_reply.started": "2021-09-30T05:26:02.208253Z"
    },
    "papermill": {
     "duration": 0.037229,
     "end_time": "2021-09-30T19:50:59.195746",
     "exception": false,
     "start_time": "2021-09-30T19:50:59.158517",
     "status": "completed"
    },
    "tags": []
   },
   "outputs": [],
   "source": [
    "df1 = df.copy()"
   ]
  },
  {
   "cell_type": "code",
   "execution_count": 4,
   "id": "818268e6",
   "metadata": {
    "execution": {
     "iopub.execute_input": "2021-09-30T19:50:59.262995Z",
     "iopub.status.busy": "2021-09-30T19:50:59.262070Z",
     "iopub.status.idle": "2021-09-30T19:50:59.326236Z",
     "shell.execute_reply": "2021-09-30T19:50:59.325679Z",
     "shell.execute_reply.started": "2021-09-30T05:26:02.214292Z"
    },
    "papermill": {
     "duration": 0.101453,
     "end_time": "2021-09-30T19:50:59.326385",
     "exception": false,
     "start_time": "2021-09-30T19:50:59.224932",
     "status": "completed"
    },
    "tags": []
   },
   "outputs": [
    {
     "name": "stdout",
     "output_type": "stream",
     "text": [
      "<class 'pandas.core.frame.DataFrame'>\n",
      "RangeIndex: 5000 entries, 0 to 4999\n",
      "Data columns (total 21 columns):\n",
      " #   Column                         Non-Null Count  Dtype  \n",
      "---  ------                         --------------  -----  \n",
      " 0   state                          5000 non-null   object \n",
      " 1   account_length                 5000 non-null   int64  \n",
      " 2   area_code                      5000 non-null   int64  \n",
      " 3   phone_number                   5000 non-null   object \n",
      " 4   intl_plan                      5000 non-null   object \n",
      " 5   voice_mail_plan                5000 non-null   object \n",
      " 6   number_vmail_messages          5000 non-null   int64  \n",
      " 7   total_day_minutes              5000 non-null   float64\n",
      " 8   total_day_calls                5000 non-null   int64  \n",
      " 9   total_day_charge               5000 non-null   float64\n",
      " 10  total_eve_minutes              5000 non-null   float64\n",
      " 11  total_eve_calls                5000 non-null   int64  \n",
      " 12  total_eve_charge               5000 non-null   float64\n",
      " 13  total_night_minutes            5000 non-null   float64\n",
      " 14  total_night_calls              5000 non-null   int64  \n",
      " 15  total_night_charge             5000 non-null   float64\n",
      " 16  total_intl_minutes             5000 non-null   float64\n",
      " 17  total_intl_calls               5000 non-null   int64  \n",
      " 18  total_intl_charge              5000 non-null   float64\n",
      " 19  number_customer_service_calls  5000 non-null   int64  \n",
      " 20  churned                        5000 non-null   object \n",
      "dtypes: float64(8), int64(8), object(5)\n",
      "memory usage: 820.4+ KB\n"
     ]
    },
    {
     "data": {
      "text/html": [
       "<div>\n",
       "<style scoped>\n",
       "    .dataframe tbody tr th:only-of-type {\n",
       "        vertical-align: middle;\n",
       "    }\n",
       "\n",
       "    .dataframe tbody tr th {\n",
       "        vertical-align: top;\n",
       "    }\n",
       "\n",
       "    .dataframe thead th {\n",
       "        text-align: right;\n",
       "    }\n",
       "</style>\n",
       "<table border=\"1\" class=\"dataframe\">\n",
       "  <thead>\n",
       "    <tr style=\"text-align: right;\">\n",
       "      <th></th>\n",
       "      <th>account_length</th>\n",
       "      <th>area_code</th>\n",
       "      <th>number_vmail_messages</th>\n",
       "      <th>total_day_minutes</th>\n",
       "      <th>total_day_calls</th>\n",
       "      <th>total_day_charge</th>\n",
       "      <th>total_eve_minutes</th>\n",
       "      <th>total_eve_calls</th>\n",
       "      <th>total_eve_charge</th>\n",
       "      <th>total_night_minutes</th>\n",
       "      <th>total_night_calls</th>\n",
       "      <th>total_night_charge</th>\n",
       "      <th>total_intl_minutes</th>\n",
       "      <th>total_intl_calls</th>\n",
       "      <th>total_intl_charge</th>\n",
       "      <th>number_customer_service_calls</th>\n",
       "    </tr>\n",
       "  </thead>\n",
       "  <tbody>\n",
       "    <tr>\n",
       "      <th>count</th>\n",
       "      <td>5000.00000</td>\n",
       "      <td>5000.000000</td>\n",
       "      <td>5000.000000</td>\n",
       "      <td>5000.000000</td>\n",
       "      <td>5000.000000</td>\n",
       "      <td>5000.000000</td>\n",
       "      <td>5000.000000</td>\n",
       "      <td>5000.000000</td>\n",
       "      <td>5000.000000</td>\n",
       "      <td>5000.000000</td>\n",
       "      <td>5000.000000</td>\n",
       "      <td>5000.000000</td>\n",
       "      <td>5000.000000</td>\n",
       "      <td>5000.000000</td>\n",
       "      <td>5000.000000</td>\n",
       "      <td>5000.000000</td>\n",
       "    </tr>\n",
       "    <tr>\n",
       "      <th>mean</th>\n",
       "      <td>100.25860</td>\n",
       "      <td>436.911400</td>\n",
       "      <td>7.755200</td>\n",
       "      <td>180.288900</td>\n",
       "      <td>100.029400</td>\n",
       "      <td>30.649668</td>\n",
       "      <td>200.636560</td>\n",
       "      <td>100.191000</td>\n",
       "      <td>17.054322</td>\n",
       "      <td>200.391620</td>\n",
       "      <td>99.919200</td>\n",
       "      <td>9.017732</td>\n",
       "      <td>10.261780</td>\n",
       "      <td>4.435200</td>\n",
       "      <td>2.771196</td>\n",
       "      <td>1.570400</td>\n",
       "    </tr>\n",
       "    <tr>\n",
       "      <th>std</th>\n",
       "      <td>39.69456</td>\n",
       "      <td>42.209182</td>\n",
       "      <td>13.546393</td>\n",
       "      <td>53.894699</td>\n",
       "      <td>19.831197</td>\n",
       "      <td>9.162069</td>\n",
       "      <td>50.551309</td>\n",
       "      <td>19.826496</td>\n",
       "      <td>4.296843</td>\n",
       "      <td>50.527789</td>\n",
       "      <td>19.958686</td>\n",
       "      <td>2.273763</td>\n",
       "      <td>2.761396</td>\n",
       "      <td>2.456788</td>\n",
       "      <td>0.745514</td>\n",
       "      <td>1.306363</td>\n",
       "    </tr>\n",
       "    <tr>\n",
       "      <th>min</th>\n",
       "      <td>1.00000</td>\n",
       "      <td>408.000000</td>\n",
       "      <td>0.000000</td>\n",
       "      <td>0.000000</td>\n",
       "      <td>0.000000</td>\n",
       "      <td>0.000000</td>\n",
       "      <td>0.000000</td>\n",
       "      <td>0.000000</td>\n",
       "      <td>0.000000</td>\n",
       "      <td>0.000000</td>\n",
       "      <td>0.000000</td>\n",
       "      <td>0.000000</td>\n",
       "      <td>0.000000</td>\n",
       "      <td>0.000000</td>\n",
       "      <td>0.000000</td>\n",
       "      <td>0.000000</td>\n",
       "    </tr>\n",
       "    <tr>\n",
       "      <th>25%</th>\n",
       "      <td>73.00000</td>\n",
       "      <td>408.000000</td>\n",
       "      <td>0.000000</td>\n",
       "      <td>143.700000</td>\n",
       "      <td>87.000000</td>\n",
       "      <td>24.430000</td>\n",
       "      <td>166.375000</td>\n",
       "      <td>87.000000</td>\n",
       "      <td>14.140000</td>\n",
       "      <td>166.900000</td>\n",
       "      <td>87.000000</td>\n",
       "      <td>7.510000</td>\n",
       "      <td>8.500000</td>\n",
       "      <td>3.000000</td>\n",
       "      <td>2.300000</td>\n",
       "      <td>1.000000</td>\n",
       "    </tr>\n",
       "    <tr>\n",
       "      <th>50%</th>\n",
       "      <td>100.00000</td>\n",
       "      <td>415.000000</td>\n",
       "      <td>0.000000</td>\n",
       "      <td>180.100000</td>\n",
       "      <td>100.000000</td>\n",
       "      <td>30.620000</td>\n",
       "      <td>201.000000</td>\n",
       "      <td>100.000000</td>\n",
       "      <td>17.090000</td>\n",
       "      <td>200.400000</td>\n",
       "      <td>100.000000</td>\n",
       "      <td>9.020000</td>\n",
       "      <td>10.300000</td>\n",
       "      <td>4.000000</td>\n",
       "      <td>2.780000</td>\n",
       "      <td>1.000000</td>\n",
       "    </tr>\n",
       "    <tr>\n",
       "      <th>75%</th>\n",
       "      <td>127.00000</td>\n",
       "      <td>415.000000</td>\n",
       "      <td>17.000000</td>\n",
       "      <td>216.200000</td>\n",
       "      <td>113.000000</td>\n",
       "      <td>36.750000</td>\n",
       "      <td>234.100000</td>\n",
       "      <td>114.000000</td>\n",
       "      <td>19.900000</td>\n",
       "      <td>234.700000</td>\n",
       "      <td>113.000000</td>\n",
       "      <td>10.560000</td>\n",
       "      <td>12.000000</td>\n",
       "      <td>6.000000</td>\n",
       "      <td>3.240000</td>\n",
       "      <td>2.000000</td>\n",
       "    </tr>\n",
       "    <tr>\n",
       "      <th>max</th>\n",
       "      <td>243.00000</td>\n",
       "      <td>510.000000</td>\n",
       "      <td>52.000000</td>\n",
       "      <td>351.500000</td>\n",
       "      <td>165.000000</td>\n",
       "      <td>59.760000</td>\n",
       "      <td>363.700000</td>\n",
       "      <td>170.000000</td>\n",
       "      <td>30.910000</td>\n",
       "      <td>395.000000</td>\n",
       "      <td>175.000000</td>\n",
       "      <td>17.770000</td>\n",
       "      <td>20.000000</td>\n",
       "      <td>20.000000</td>\n",
       "      <td>5.400000</td>\n",
       "      <td>9.000000</td>\n",
       "    </tr>\n",
       "  </tbody>\n",
       "</table>\n",
       "</div>"
      ],
      "text/plain": [
       "       account_length    area_code  number_vmail_messages  total_day_minutes  \\\n",
       "count      5000.00000  5000.000000            5000.000000        5000.000000   \n",
       "mean        100.25860   436.911400               7.755200         180.288900   \n",
       "std          39.69456    42.209182              13.546393          53.894699   \n",
       "min           1.00000   408.000000               0.000000           0.000000   \n",
       "25%          73.00000   408.000000               0.000000         143.700000   \n",
       "50%         100.00000   415.000000               0.000000         180.100000   \n",
       "75%         127.00000   415.000000              17.000000         216.200000   \n",
       "max         243.00000   510.000000              52.000000         351.500000   \n",
       "\n",
       "       total_day_calls  total_day_charge  total_eve_minutes  total_eve_calls  \\\n",
       "count      5000.000000       5000.000000        5000.000000      5000.000000   \n",
       "mean        100.029400         30.649668         200.636560       100.191000   \n",
       "std          19.831197          9.162069          50.551309        19.826496   \n",
       "min           0.000000          0.000000           0.000000         0.000000   \n",
       "25%          87.000000         24.430000         166.375000        87.000000   \n",
       "50%         100.000000         30.620000         201.000000       100.000000   \n",
       "75%         113.000000         36.750000         234.100000       114.000000   \n",
       "max         165.000000         59.760000         363.700000       170.000000   \n",
       "\n",
       "       total_eve_charge  total_night_minutes  total_night_calls  \\\n",
       "count       5000.000000          5000.000000        5000.000000   \n",
       "mean          17.054322           200.391620          99.919200   \n",
       "std            4.296843            50.527789          19.958686   \n",
       "min            0.000000             0.000000           0.000000   \n",
       "25%           14.140000           166.900000          87.000000   \n",
       "50%           17.090000           200.400000         100.000000   \n",
       "75%           19.900000           234.700000         113.000000   \n",
       "max           30.910000           395.000000         175.000000   \n",
       "\n",
       "       total_night_charge  total_intl_minutes  total_intl_calls  \\\n",
       "count         5000.000000         5000.000000       5000.000000   \n",
       "mean             9.017732           10.261780          4.435200   \n",
       "std              2.273763            2.761396          2.456788   \n",
       "min              0.000000            0.000000          0.000000   \n",
       "25%              7.510000            8.500000          3.000000   \n",
       "50%              9.020000           10.300000          4.000000   \n",
       "75%             10.560000           12.000000          6.000000   \n",
       "max             17.770000           20.000000         20.000000   \n",
       "\n",
       "       total_intl_charge  number_customer_service_calls  \n",
       "count        5000.000000                    5000.000000  \n",
       "mean            2.771196                       1.570400  \n",
       "std             0.745514                       1.306363  \n",
       "min             0.000000                       0.000000  \n",
       "25%             2.300000                       1.000000  \n",
       "50%             2.780000                       1.000000  \n",
       "75%             3.240000                       2.000000  \n",
       "max             5.400000                       9.000000  "
      ]
     },
     "execution_count": 4,
     "metadata": {},
     "output_type": "execute_result"
    }
   ],
   "source": [
    "# Check the structure of the data\n",
    "df1.info()\n",
    "# Inspect the data\n",
    "df1.describe()"
   ]
  },
  {
   "cell_type": "code",
   "execution_count": 5,
   "id": "bc3aca77",
   "metadata": {
    "execution": {
     "iopub.execute_input": "2021-09-30T19:50:59.398977Z",
     "iopub.status.busy": "2021-09-30T19:50:59.398346Z",
     "iopub.status.idle": "2021-09-30T19:50:59.401007Z",
     "shell.execute_reply": "2021-09-30T19:50:59.400516Z",
     "shell.execute_reply.started": "2021-09-30T05:26:02.290787Z"
    },
    "papermill": {
     "duration": 0.044288,
     "end_time": "2021-09-30T19:50:59.401136",
     "exception": false,
     "start_time": "2021-09-30T19:50:59.356848",
     "status": "completed"
    },
    "tags": []
   },
   "outputs": [],
   "source": [
    "# Remove the heading and trailing whitespaces\n",
    "df1['voice_mail_plan'] = df1['voice_mail_plan'].map(lambda x: x.strip())\n",
    "df1['intl_plan'] = df1['intl_plan'].map(lambda x: x.strip())\n",
    "df1['churned'] = df1['churned'].map(lambda x: x.strip())\n",
    "# df1['voice_mail_plan'][0]"
   ]
  },
  {
   "cell_type": "code",
   "execution_count": 6,
   "id": "cce32dc8",
   "metadata": {
    "execution": {
     "iopub.execute_input": "2021-09-30T19:50:59.467719Z",
     "iopub.status.busy": "2021-09-30T19:50:59.466969Z",
     "iopub.status.idle": "2021-09-30T19:50:59.470630Z",
     "shell.execute_reply": "2021-09-30T19:50:59.470006Z",
     "shell.execute_reply.started": "2021-09-30T05:26:02.304763Z"
    },
    "papermill": {
     "duration": 0.039477,
     "end_time": "2021-09-30T19:50:59.470770",
     "exception": false,
     "start_time": "2021-09-30T19:50:59.431293",
     "status": "completed"
    },
    "tags": []
   },
   "outputs": [],
   "source": [
    "# Convert \n",
    "df1['churned'] = np.where(df1['churned'] == 'True.',1,0)\n",
    "# df1['churned'] = df1['churned']=='True.'"
   ]
  },
  {
   "cell_type": "markdown",
   "id": "df744812",
   "metadata": {
    "papermill": {
     "duration": 0.030206,
     "end_time": "2021-09-30T19:50:59.532314",
     "exception": false,
     "start_time": "2021-09-30T19:50:59.502108",
     "status": "completed"
    },
    "tags": []
   },
   "source": [
    "Understand the features"
   ]
  },
  {
   "cell_type": "code",
   "execution_count": 7,
   "id": "279b751b",
   "metadata": {
    "execution": {
     "iopub.execute_input": "2021-09-30T19:50:59.601058Z",
     "iopub.status.busy": "2021-09-30T19:50:59.600012Z",
     "iopub.status.idle": "2021-09-30T19:51:00.039486Z",
     "shell.execute_reply": "2021-09-30T19:51:00.039933Z",
     "shell.execute_reply.started": "2021-09-30T05:26:02.319545Z"
    },
    "papermill": {
     "duration": 0.47696,
     "end_time": "2021-09-30T19:51:00.040125",
     "exception": false,
     "start_time": "2021-09-30T19:50:59.563165",
     "status": "completed"
    },
    "tags": []
   },
   "outputs": [
    {
     "data": {
      "text/plain": [
       "<AxesSubplot:>"
      ]
     },
     "execution_count": 7,
     "metadata": {},
     "output_type": "execute_result"
    },
    {
     "data": {
      "image/png": "[encoded data removed]",
      "text/plain": [
       "<Figure size 432x288 with 2 Axes>"
      ]
     },
     "metadata": {
      "needs_background": "light"
     },
     "output_type": "display_data"
    }
   ],
   "source": [
    "# correlations between all the features\n",
    "corr = df1[[\"account_length\", \"number_vmail_messages\", \"total_day_minutes\",\n",
    "                    \"total_day_calls\", \"total_day_charge\", \"total_eve_minutes\",\n",
    "                    \"total_eve_calls\", \"total_eve_charge\", \"total_night_minutes\",\n",
    "                    \"total_night_calls\", \"total_intl_minutes\", \"total_intl_calls\",\n",
    "                    \"total_intl_charge\",\"churned\"]].corr()\n",
    "\n",
    "# show heatmap of correlations\n",
    "sns.heatmap(corr, cmap=\"YlGnBu\")"
   ]
  },
  {
   "cell_type": "code",
   "execution_count": 8,
   "id": "3d8bdb56",
   "metadata": {
    "execution": {
     "iopub.execute_input": "2021-09-30T19:51:00.108782Z",
     "iopub.status.busy": "2021-09-30T19:51:00.108201Z",
     "iopub.status.idle": "2021-09-30T19:51:00.127058Z",
     "shell.execute_reply": "2021-09-30T19:51:00.127523Z",
     "shell.execute_reply.started": "2021-09-30T05:26:02.839629Z"
    },
    "papermill": {
     "duration": 0.054832,
     "end_time": "2021-09-30T19:51:00.127692",
     "exception": false,
     "start_time": "2021-09-30T19:51:00.072860",
     "status": "completed"
    },
    "tags": []
   },
   "outputs": [
    {
     "data": {
      "text/html": [
       "<div>\n",
       "<style scoped>\n",
       "    .dataframe tbody tr th:only-of-type {\n",
       "        vertical-align: middle;\n",
       "    }\n",
       "\n",
       "    .dataframe tbody tr th {\n",
       "        vertical-align: top;\n",
       "    }\n",
       "\n",
       "    .dataframe thead th {\n",
       "        text-align: right;\n",
       "    }\n",
       "</style>\n",
       "<table border=\"1\" class=\"dataframe\">\n",
       "  <thead>\n",
       "    <tr style=\"text-align: right;\">\n",
       "      <th></th>\n",
       "      <th>account_length</th>\n",
       "      <th>number_vmail_messages</th>\n",
       "      <th>total_day_minutes</th>\n",
       "      <th>total_day_calls</th>\n",
       "      <th>total_day_charge</th>\n",
       "      <th>total_eve_minutes</th>\n",
       "      <th>total_eve_calls</th>\n",
       "      <th>total_eve_charge</th>\n",
       "      <th>total_night_minutes</th>\n",
       "      <th>total_night_calls</th>\n",
       "      <th>total_intl_minutes</th>\n",
       "      <th>total_intl_calls</th>\n",
       "      <th>total_intl_charge</th>\n",
       "      <th>churned</th>\n",
       "    </tr>\n",
       "  </thead>\n",
       "  <tbody>\n",
       "    <tr>\n",
       "      <th>account_length</th>\n",
       "      <td>1.000000</td>\n",
       "      <td>-0.014575</td>\n",
       "      <td>-0.001017</td>\n",
       "      <td>0.028240</td>\n",
       "      <td>-0.001019</td>\n",
       "      <td>-0.009591</td>\n",
       "      <td>0.009143</td>\n",
       "      <td>-0.009587</td>\n",
       "      <td>0.000668</td>\n",
       "      <td>-0.007825</td>\n",
       "      <td>0.001291</td>\n",
       "      <td>0.014277</td>\n",
       "      <td>0.001292</td>\n",
       "      <td>0.021203</td>\n",
       "    </tr>\n",
       "    <tr>\n",
       "      <th>number_vmail_messages</th>\n",
       "      <td>-0.014575</td>\n",
       "      <td>1.000000</td>\n",
       "      <td>0.005381</td>\n",
       "      <td>0.000883</td>\n",
       "      <td>0.005377</td>\n",
       "      <td>0.019490</td>\n",
       "      <td>-0.003954</td>\n",
       "      <td>0.019496</td>\n",
       "      <td>0.005541</td>\n",
       "      <td>0.002676</td>\n",
       "      <td>0.002463</td>\n",
       "      <td>0.000124</td>\n",
       "      <td>0.002505</td>\n",
       "      <td>-0.097633</td>\n",
       "    </tr>\n",
       "    <tr>\n",
       "      <th>total_day_minutes</th>\n",
       "      <td>-0.001017</td>\n",
       "      <td>0.005381</td>\n",
       "      <td>1.000000</td>\n",
       "      <td>0.001935</td>\n",
       "      <td>1.000000</td>\n",
       "      <td>-0.010750</td>\n",
       "      <td>0.008128</td>\n",
       "      <td>-0.010760</td>\n",
       "      <td>0.011799</td>\n",
       "      <td>0.004236</td>\n",
       "      <td>-0.019486</td>\n",
       "      <td>-0.001303</td>\n",
       "      <td>-0.019415</td>\n",
       "      <td>0.207705</td>\n",
       "    </tr>\n",
       "    <tr>\n",
       "      <th>total_day_calls</th>\n",
       "      <td>0.028240</td>\n",
       "      <td>0.000883</td>\n",
       "      <td>0.001935</td>\n",
       "      <td>1.000000</td>\n",
       "      <td>0.001936</td>\n",
       "      <td>-0.000699</td>\n",
       "      <td>0.003754</td>\n",
       "      <td>-0.000695</td>\n",
       "      <td>0.002804</td>\n",
       "      <td>-0.008308</td>\n",
       "      <td>0.013097</td>\n",
       "      <td>0.010893</td>\n",
       "      <td>0.013161</td>\n",
       "      <td>0.016130</td>\n",
       "    </tr>\n",
       "    <tr>\n",
       "      <th>total_day_charge</th>\n",
       "      <td>-0.001019</td>\n",
       "      <td>0.005377</td>\n",
       "      <td>1.000000</td>\n",
       "      <td>0.001936</td>\n",
       "      <td>1.000000</td>\n",
       "      <td>-0.010747</td>\n",
       "      <td>0.008129</td>\n",
       "      <td>-0.010757</td>\n",
       "      <td>0.011801</td>\n",
       "      <td>0.004235</td>\n",
       "      <td>-0.019490</td>\n",
       "      <td>-0.001307</td>\n",
       "      <td>-0.019419</td>\n",
       "      <td>0.207700</td>\n",
       "    </tr>\n",
       "    <tr>\n",
       "      <th>total_eve_minutes</th>\n",
       "      <td>-0.009591</td>\n",
       "      <td>0.019490</td>\n",
       "      <td>-0.010750</td>\n",
       "      <td>-0.000699</td>\n",
       "      <td>-0.010747</td>\n",
       "      <td>1.000000</td>\n",
       "      <td>0.002763</td>\n",
       "      <td>1.000000</td>\n",
       "      <td>-0.016639</td>\n",
       "      <td>0.013420</td>\n",
       "      <td>0.000137</td>\n",
       "      <td>0.008388</td>\n",
       "      <td>0.000159</td>\n",
       "      <td>0.089288</td>\n",
       "    </tr>\n",
       "    <tr>\n",
       "      <th>total_eve_calls</th>\n",
       "      <td>0.009143</td>\n",
       "      <td>-0.003954</td>\n",
       "      <td>0.008128</td>\n",
       "      <td>0.003754</td>\n",
       "      <td>0.008129</td>\n",
       "      <td>0.002763</td>\n",
       "      <td>1.000000</td>\n",
       "      <td>0.002778</td>\n",
       "      <td>0.001781</td>\n",
       "      <td>-0.013682</td>\n",
       "      <td>-0.007458</td>\n",
       "      <td>0.005574</td>\n",
       "      <td>-0.007507</td>\n",
       "      <td>-0.006284</td>\n",
       "    </tr>\n",
       "    <tr>\n",
       "      <th>total_eve_charge</th>\n",
       "      <td>-0.009587</td>\n",
       "      <td>0.019496</td>\n",
       "      <td>-0.010760</td>\n",
       "      <td>-0.000695</td>\n",
       "      <td>-0.010757</td>\n",
       "      <td>1.000000</td>\n",
       "      <td>0.002778</td>\n",
       "      <td>1.000000</td>\n",
       "      <td>-0.016649</td>\n",
       "      <td>0.013422</td>\n",
       "      <td>0.000132</td>\n",
       "      <td>0.008393</td>\n",
       "      <td>0.000155</td>\n",
       "      <td>0.089282</td>\n",
       "    </tr>\n",
       "    <tr>\n",
       "      <th>total_night_minutes</th>\n",
       "      <td>0.000668</td>\n",
       "      <td>0.005541</td>\n",
       "      <td>0.011799</td>\n",
       "      <td>0.002804</td>\n",
       "      <td>0.011801</td>\n",
       "      <td>-0.016639</td>\n",
       "      <td>0.001781</td>\n",
       "      <td>-0.016649</td>\n",
       "      <td>1.000000</td>\n",
       "      <td>0.026972</td>\n",
       "      <td>-0.006721</td>\n",
       "      <td>-0.017214</td>\n",
       "      <td>-0.006655</td>\n",
       "      <td>0.045677</td>\n",
       "    </tr>\n",
       "    <tr>\n",
       "      <th>total_night_calls</th>\n",
       "      <td>-0.007825</td>\n",
       "      <td>0.002676</td>\n",
       "      <td>0.004236</td>\n",
       "      <td>-0.008308</td>\n",
       "      <td>0.004235</td>\n",
       "      <td>0.013420</td>\n",
       "      <td>-0.013682</td>\n",
       "      <td>0.013422</td>\n",
       "      <td>0.026972</td>\n",
       "      <td>1.000000</td>\n",
       "      <td>0.000391</td>\n",
       "      <td>-0.000156</td>\n",
       "      <td>0.000368</td>\n",
       "      <td>-0.006986</td>\n",
       "    </tr>\n",
       "    <tr>\n",
       "      <th>total_intl_minutes</th>\n",
       "      <td>0.001291</td>\n",
       "      <td>0.002463</td>\n",
       "      <td>-0.019486</td>\n",
       "      <td>0.013097</td>\n",
       "      <td>-0.019490</td>\n",
       "      <td>0.000137</td>\n",
       "      <td>-0.007458</td>\n",
       "      <td>0.000132</td>\n",
       "      <td>-0.006721</td>\n",
       "      <td>0.000391</td>\n",
       "      <td>1.000000</td>\n",
       "      <td>0.016791</td>\n",
       "      <td>0.999993</td>\n",
       "      <td>0.063285</td>\n",
       "    </tr>\n",
       "    <tr>\n",
       "      <th>total_intl_calls</th>\n",
       "      <td>0.014277</td>\n",
       "      <td>0.000124</td>\n",
       "      <td>-0.001303</td>\n",
       "      <td>0.010893</td>\n",
       "      <td>-0.001307</td>\n",
       "      <td>0.008388</td>\n",
       "      <td>0.005574</td>\n",
       "      <td>0.008393</td>\n",
       "      <td>-0.017214</td>\n",
       "      <td>-0.000156</td>\n",
       "      <td>0.016791</td>\n",
       "      <td>1.000000</td>\n",
       "      <td>0.016900</td>\n",
       "      <td>-0.046893</td>\n",
       "    </tr>\n",
       "    <tr>\n",
       "      <th>total_intl_charge</th>\n",
       "      <td>0.001292</td>\n",
       "      <td>0.002505</td>\n",
       "      <td>-0.019415</td>\n",
       "      <td>0.013161</td>\n",
       "      <td>-0.019419</td>\n",
       "      <td>0.000159</td>\n",
       "      <td>-0.007507</td>\n",
       "      <td>0.000155</td>\n",
       "      <td>-0.006655</td>\n",
       "      <td>0.000368</td>\n",
       "      <td>0.999993</td>\n",
       "      <td>0.016900</td>\n",
       "      <td>1.000000</td>\n",
       "      <td>0.063275</td>\n",
       "    </tr>\n",
       "    <tr>\n",
       "      <th>churned</th>\n",
       "      <td>0.021203</td>\n",
       "      <td>-0.097633</td>\n",
       "      <td>0.207705</td>\n",
       "      <td>0.016130</td>\n",
       "      <td>0.207700</td>\n",
       "      <td>0.089288</td>\n",
       "      <td>-0.006284</td>\n",
       "      <td>0.089282</td>\n",
       "      <td>0.045677</td>\n",
       "      <td>-0.006986</td>\n",
       "      <td>0.063285</td>\n",
       "      <td>-0.046893</td>\n",
       "      <td>0.063275</td>\n",
       "      <td>1.000000</td>\n",
       "    </tr>\n",
       "  </tbody>\n",
       "</table>\n",
       "</div>"
      ],
      "text/plain": [
       "                       account_length  number_vmail_messages  \\\n",
       "account_length               1.000000              -0.014575   \n",
       "number_vmail_messages       -0.014575               1.000000   \n",
       "total_day_minutes           -0.001017               0.005381   \n",
       "total_day_calls              0.028240               0.000883   \n",
       "total_day_charge            -0.001019               0.005377   \n",
       "total_eve_minutes           -0.009591               0.019490   \n",
       "total_eve_calls              0.009143              -0.003954   \n",
       "total_eve_charge            -0.009587               0.019496   \n",
       "total_night_minutes          0.000668               0.005541   \n",
       "total_night_calls           -0.007825               0.002676   \n",
       "total_intl_minutes           0.001291               0.002463   \n",
       "total_intl_calls             0.014277               0.000124   \n",
       "total_intl_charge            0.001292               0.002505   \n",
       "churned                      0.021203              -0.097633   \n",
       "\n",
       "                       total_day_minutes  total_day_calls  total_day_charge  \\\n",
       "account_length                 -0.001017         0.028240         -0.001019   \n",
       "number_vmail_messages           0.005381         0.000883          0.005377   \n",
       "total_day_minutes               1.000000         0.001935          1.000000   \n",
       "total_day_calls                 0.001935         1.000000          0.001936   \n",
       "total_day_charge                1.000000         0.001936          1.000000   \n",
       "total_eve_minutes              -0.010750        -0.000699         -0.010747   \n",
       "total_eve_calls                 0.008128         0.003754          0.008129   \n",
       "total_eve_charge               -0.010760        -0.000695         -0.010757   \n",
       "total_night_minutes             0.011799         0.002804          0.011801   \n",
       "total_night_calls               0.004236        -0.008308          0.004235   \n",
       "total_intl_minutes             -0.019486         0.013097         -0.019490   \n",
       "total_intl_calls               -0.001303         0.010893         -0.001307   \n",
       "total_intl_charge              -0.019415         0.013161         -0.019419   \n",
       "churned                         0.207705         0.016130          0.207700   \n",
       "\n",
       "                       total_eve_minutes  total_eve_calls  total_eve_charge  \\\n",
       "account_length                 -0.009591         0.009143         -0.009587   \n",
       "number_vmail_messages           0.019490        -0.003954          0.019496   \n",
       "total_day_minutes              -0.010750         0.008128         -0.010760   \n",
       "total_day_calls                -0.000699         0.003754         -0.000695   \n",
       "total_day_charge               -0.010747         0.008129         -0.010757   \n",
       "total_eve_minutes               1.000000         0.002763          1.000000   \n",
       "total_eve_calls                 0.002763         1.000000          0.002778   \n",
       "total_eve_charge                1.000000         0.002778          1.000000   \n",
       "total_night_minutes            -0.016639         0.001781         -0.016649   \n",
       "total_night_calls               0.013420        -0.013682          0.013422   \n",
       "total_intl_minutes              0.000137        -0.007458          0.000132   \n",
       "total_intl_calls                0.008388         0.005574          0.008393   \n",
       "total_intl_charge               0.000159        -0.007507          0.000155   \n",
       "churned                         0.089288        -0.006284          0.089282   \n",
       "\n",
       "                       total_night_minutes  total_night_calls  \\\n",
       "account_length                    0.000668          -0.007825   \n",
       "number_vmail_messages             0.005541           0.002676   \n",
       "total_day_minutes                 0.011799           0.004236   \n",
       "total_day_calls                   0.002804          -0.008308   \n",
       "total_day_charge                  0.011801           0.004235   \n",
       "total_eve_minutes                -0.016639           0.013420   \n",
       "total_eve_calls                   0.001781          -0.013682   \n",
       "total_eve_charge                 -0.016649           0.013422   \n",
       "total_night_minutes               1.000000           0.026972   \n",
       "total_night_calls                 0.026972           1.000000   \n",
       "total_intl_minutes               -0.006721           0.000391   \n",
       "total_intl_calls                 -0.017214          -0.000156   \n",
       "total_intl_charge                -0.006655           0.000368   \n",
       "churned                           0.045677          -0.006986   \n",
       "\n",
       "                       total_intl_minutes  total_intl_calls  \\\n",
       "account_length                   0.001291          0.014277   \n",
       "number_vmail_messages            0.002463          0.000124   \n",
       "total_day_minutes               -0.019486         -0.001303   \n",
       "total_day_calls                  0.013097          0.010893   \n",
       "total_day_charge                -0.019490         -0.001307   \n",
       "total_eve_minutes                0.000137          0.008388   \n",
       "total_eve_calls                 -0.007458          0.005574   \n",
       "total_eve_charge                 0.000132          0.008393   \n",
       "total_night_minutes             -0.006721         -0.017214   \n",
       "total_night_calls                0.000391         -0.000156   \n",
       "total_intl_minutes               1.000000          0.016791   \n",
       "total_intl_calls                 0.016791          1.000000   \n",
       "total_intl_charge                0.999993          0.016900   \n",
       "churned                          0.063285         -0.046893   \n",
       "\n",
       "                       total_intl_charge   churned  \n",
       "account_length                  0.001292  0.021203  \n",
       "number_vmail_messages           0.002505 -0.097633  \n",
       "total_day_minutes              -0.019415  0.207705  \n",
       "total_day_calls                 0.013161  0.016130  \n",
       "total_day_charge               -0.019419  0.207700  \n",
       "total_eve_minutes               0.000159  0.089288  \n",
       "total_eve_calls                -0.007507 -0.006284  \n",
       "total_eve_charge                0.000155  0.089282  \n",
       "total_night_minutes            -0.006655  0.045677  \n",
       "total_night_calls               0.000368 -0.006986  \n",
       "total_intl_minutes              0.999993  0.063285  \n",
       "total_intl_calls                0.016900 -0.046893  \n",
       "total_intl_charge               1.000000  0.063275  \n",
       "churned                         0.063275  1.000000  "
      ]
     },
     "execution_count": 8,
     "metadata": {},
     "output_type": "execute_result"
    }
   ],
   "source": [
    "corr"
   ]
  },
  {
   "cell_type": "code",
   "execution_count": 9,
   "id": "4e9eea4e",
   "metadata": {
    "execution": {
     "iopub.execute_input": "2021-09-30T19:51:00.197302Z",
     "iopub.status.busy": "2021-09-30T19:51:00.196722Z",
     "iopub.status.idle": "2021-09-30T19:51:00.205607Z",
     "shell.execute_reply": "2021-09-30T19:51:00.205072Z",
     "shell.execute_reply.started": "2021-09-30T05:26:02.868233Z"
    },
    "papermill": {
     "duration": 0.044455,
     "end_time": "2021-09-30T19:51:00.205753",
     "exception": false,
     "start_time": "2021-09-30T19:51:00.161298",
     "status": "completed"
    },
    "tags": []
   },
   "outputs": [],
   "source": [
    "# Drop the meaningless columns and target column to create features dataframe\n",
    "\n",
    "\n",
    "to_drop = ['state','area_code','phone_number','churned']\n",
    "features = df1.drop(to_drop, axis=1)\n",
    "\n",
    "## Convert Yes/No to boolean values\n",
    "yes_no_cols = [\"intl_plan\",\"voice_mail_plan\"]\n",
    "features[yes_no_cols] = features[yes_no_cols] == 'yes'"
   ]
  },
  {
   "cell_type": "code",
   "execution_count": 10,
   "id": "d28f015e",
   "metadata": {
    "execution": {
     "iopub.execute_input": "2021-09-30T19:51:00.275232Z",
     "iopub.status.busy": "2021-09-30T19:51:00.274346Z",
     "iopub.status.idle": "2021-09-30T19:51:00.276643Z",
     "shell.execute_reply": "2021-09-30T19:51:00.277032Z",
     "shell.execute_reply.started": "2021-09-30T05:26:02.884104Z"
    },
    "papermill": {
     "duration": 0.039093,
     "end_time": "2021-09-30T19:51:00.277192",
     "exception": false,
     "start_time": "2021-09-30T19:51:00.238099",
     "status": "completed"
    },
    "tags": []
   },
   "outputs": [],
   "source": [
    "# Encoding the States column \n",
    "\n",
    "# import category_encoders as ce\n",
    "\n",
    "\n",
    "## Got warning \"is_categorical is deprecated...\" and waiting for updates. \n",
    "# train, test = train_test_split(df1)\n",
    "\n",
    "# encoder = ce.JamesSteinEncoder(cols=df1['state'], return_df = True)\n",
    "\n",
    "# df_train_transformed = encoder.fit_transform(train, train['churned'])\n",
    "# df_test_transformed = encoder.transform(test)\n",
    "\n",
    "# encoder = ce.HashingEncoder(n_components=3, cols=df1['state'])\n",
    "# encoder.fit_transform(X_train)"
   ]
  },
  {
   "cell_type": "code",
   "execution_count": 11,
   "id": "d237d1ce",
   "metadata": {
    "execution": {
     "iopub.execute_input": "2021-09-30T19:51:00.362229Z",
     "iopub.status.busy": "2021-09-30T19:51:00.361238Z",
     "iopub.status.idle": "2021-09-30T19:51:00.392501Z",
     "shell.execute_reply": "2021-09-30T19:51:00.392979Z",
     "shell.execute_reply.started": "2021-09-30T05:26:02.897715Z"
    },
    "papermill": {
     "duration": 0.081809,
     "end_time": "2021-09-30T19:51:00.393155",
     "exception": false,
     "start_time": "2021-09-30T19:51:00.311346",
     "status": "completed"
    },
    "tags": []
   },
   "outputs": [
    {
     "data": {
      "text/html": [
       "<div>\n",
       "<style scoped>\n",
       "    .dataframe tbody tr th:only-of-type {\n",
       "        vertical-align: middle;\n",
       "    }\n",
       "\n",
       "    .dataframe tbody tr th {\n",
       "        vertical-align: top;\n",
       "    }\n",
       "\n",
       "    .dataframe thead th {\n",
       "        text-align: right;\n",
       "    }\n",
       "</style>\n",
       "<table border=\"1\" class=\"dataframe\">\n",
       "  <thead>\n",
       "    <tr style=\"text-align: right;\">\n",
       "      <th></th>\n",
       "      <th>account_length</th>\n",
       "      <th>intl_plan</th>\n",
       "      <th>voice_mail_plan</th>\n",
       "      <th>number_vmail_messages</th>\n",
       "      <th>total_day_minutes</th>\n",
       "      <th>total_day_calls</th>\n",
       "      <th>total_day_charge</th>\n",
       "      <th>total_eve_minutes</th>\n",
       "      <th>total_eve_calls</th>\n",
       "      <th>total_eve_charge</th>\n",
       "      <th>total_night_minutes</th>\n",
       "      <th>total_night_calls</th>\n",
       "      <th>total_night_charge</th>\n",
       "      <th>total_intl_minutes</th>\n",
       "      <th>total_intl_calls</th>\n",
       "      <th>total_intl_charge</th>\n",
       "      <th>number_customer_service_calls</th>\n",
       "    </tr>\n",
       "  </thead>\n",
       "  <tbody>\n",
       "    <tr>\n",
       "      <th>0</th>\n",
       "      <td>128</td>\n",
       "      <td>False</td>\n",
       "      <td>True</td>\n",
       "      <td>25</td>\n",
       "      <td>265.1</td>\n",
       "      <td>110</td>\n",
       "      <td>45.07</td>\n",
       "      <td>197.4</td>\n",
       "      <td>99</td>\n",
       "      <td>16.78</td>\n",
       "      <td>244.7</td>\n",
       "      <td>91</td>\n",
       "      <td>11.01</td>\n",
       "      <td>10.0</td>\n",
       "      <td>3</td>\n",
       "      <td>2.70</td>\n",
       "      <td>1</td>\n",
       "    </tr>\n",
       "    <tr>\n",
       "      <th>1</th>\n",
       "      <td>107</td>\n",
       "      <td>False</td>\n",
       "      <td>True</td>\n",
       "      <td>26</td>\n",
       "      <td>161.6</td>\n",
       "      <td>123</td>\n",
       "      <td>27.47</td>\n",
       "      <td>195.5</td>\n",
       "      <td>103</td>\n",
       "      <td>16.62</td>\n",
       "      <td>254.4</td>\n",
       "      <td>103</td>\n",
       "      <td>11.45</td>\n",
       "      <td>13.7</td>\n",
       "      <td>3</td>\n",
       "      <td>3.70</td>\n",
       "      <td>1</td>\n",
       "    </tr>\n",
       "    <tr>\n",
       "      <th>2</th>\n",
       "      <td>137</td>\n",
       "      <td>False</td>\n",
       "      <td>False</td>\n",
       "      <td>0</td>\n",
       "      <td>243.4</td>\n",
       "      <td>114</td>\n",
       "      <td>41.38</td>\n",
       "      <td>121.2</td>\n",
       "      <td>110</td>\n",
       "      <td>10.30</td>\n",
       "      <td>162.6</td>\n",
       "      <td>104</td>\n",
       "      <td>7.32</td>\n",
       "      <td>12.2</td>\n",
       "      <td>5</td>\n",
       "      <td>3.29</td>\n",
       "      <td>0</td>\n",
       "    </tr>\n",
       "    <tr>\n",
       "      <th>3</th>\n",
       "      <td>84</td>\n",
       "      <td>True</td>\n",
       "      <td>False</td>\n",
       "      <td>0</td>\n",
       "      <td>299.4</td>\n",
       "      <td>71</td>\n",
       "      <td>50.90</td>\n",
       "      <td>61.9</td>\n",
       "      <td>88</td>\n",
       "      <td>5.26</td>\n",
       "      <td>196.9</td>\n",
       "      <td>89</td>\n",
       "      <td>8.86</td>\n",
       "      <td>6.6</td>\n",
       "      <td>7</td>\n",
       "      <td>1.78</td>\n",
       "      <td>2</td>\n",
       "    </tr>\n",
       "    <tr>\n",
       "      <th>4</th>\n",
       "      <td>75</td>\n",
       "      <td>True</td>\n",
       "      <td>False</td>\n",
       "      <td>0</td>\n",
       "      <td>166.7</td>\n",
       "      <td>113</td>\n",
       "      <td>28.34</td>\n",
       "      <td>148.3</td>\n",
       "      <td>122</td>\n",
       "      <td>12.61</td>\n",
       "      <td>186.9</td>\n",
       "      <td>121</td>\n",
       "      <td>8.41</td>\n",
       "      <td>10.1</td>\n",
       "      <td>3</td>\n",
       "      <td>2.73</td>\n",
       "      <td>3</td>\n",
       "    </tr>\n",
       "    <tr>\n",
       "      <th>...</th>\n",
       "      <td>...</td>\n",
       "      <td>...</td>\n",
       "      <td>...</td>\n",
       "      <td>...</td>\n",
       "      <td>...</td>\n",
       "      <td>...</td>\n",
       "      <td>...</td>\n",
       "      <td>...</td>\n",
       "      <td>...</td>\n",
       "      <td>...</td>\n",
       "      <td>...</td>\n",
       "      <td>...</td>\n",
       "      <td>...</td>\n",
       "      <td>...</td>\n",
       "      <td>...</td>\n",
       "      <td>...</td>\n",
       "      <td>...</td>\n",
       "    </tr>\n",
       "    <tr>\n",
       "      <th>4995</th>\n",
       "      <td>50</td>\n",
       "      <td>False</td>\n",
       "      <td>True</td>\n",
       "      <td>40</td>\n",
       "      <td>235.7</td>\n",
       "      <td>127</td>\n",
       "      <td>40.07</td>\n",
       "      <td>223.0</td>\n",
       "      <td>126</td>\n",
       "      <td>18.96</td>\n",
       "      <td>297.5</td>\n",
       "      <td>116</td>\n",
       "      <td>13.39</td>\n",
       "      <td>9.9</td>\n",
       "      <td>5</td>\n",
       "      <td>2.67</td>\n",
       "      <td>2</td>\n",
       "    </tr>\n",
       "    <tr>\n",
       "      <th>4996</th>\n",
       "      <td>152</td>\n",
       "      <td>False</td>\n",
       "      <td>False</td>\n",
       "      <td>0</td>\n",
       "      <td>184.2</td>\n",
       "      <td>90</td>\n",
       "      <td>31.31</td>\n",
       "      <td>256.8</td>\n",
       "      <td>73</td>\n",
       "      <td>21.83</td>\n",
       "      <td>213.6</td>\n",
       "      <td>113</td>\n",
       "      <td>9.61</td>\n",
       "      <td>14.7</td>\n",
       "      <td>2</td>\n",
       "      <td>3.97</td>\n",
       "      <td>3</td>\n",
       "    </tr>\n",
       "    <tr>\n",
       "      <th>4997</th>\n",
       "      <td>61</td>\n",
       "      <td>False</td>\n",
       "      <td>False</td>\n",
       "      <td>0</td>\n",
       "      <td>140.6</td>\n",
       "      <td>89</td>\n",
       "      <td>23.90</td>\n",
       "      <td>172.8</td>\n",
       "      <td>128</td>\n",
       "      <td>14.69</td>\n",
       "      <td>212.4</td>\n",
       "      <td>97</td>\n",
       "      <td>9.56</td>\n",
       "      <td>13.6</td>\n",
       "      <td>4</td>\n",
       "      <td>3.67</td>\n",
       "      <td>1</td>\n",
       "    </tr>\n",
       "    <tr>\n",
       "      <th>4998</th>\n",
       "      <td>109</td>\n",
       "      <td>False</td>\n",
       "      <td>False</td>\n",
       "      <td>0</td>\n",
       "      <td>188.8</td>\n",
       "      <td>67</td>\n",
       "      <td>32.10</td>\n",
       "      <td>171.7</td>\n",
       "      <td>92</td>\n",
       "      <td>14.59</td>\n",
       "      <td>224.4</td>\n",
       "      <td>89</td>\n",
       "      <td>10.10</td>\n",
       "      <td>8.5</td>\n",
       "      <td>6</td>\n",
       "      <td>2.30</td>\n",
       "      <td>0</td>\n",
       "    </tr>\n",
       "    <tr>\n",
       "      <th>4999</th>\n",
       "      <td>86</td>\n",
       "      <td>False</td>\n",
       "      <td>True</td>\n",
       "      <td>34</td>\n",
       "      <td>129.4</td>\n",
       "      <td>102</td>\n",
       "      <td>22.00</td>\n",
       "      <td>267.1</td>\n",
       "      <td>104</td>\n",
       "      <td>22.70</td>\n",
       "      <td>154.8</td>\n",
       "      <td>100</td>\n",
       "      <td>6.97</td>\n",
       "      <td>9.3</td>\n",
       "      <td>16</td>\n",
       "      <td>2.51</td>\n",
       "      <td>0</td>\n",
       "    </tr>\n",
       "  </tbody>\n",
       "</table>\n",
       "<p>5000 rows × 17 columns</p>\n",
       "</div>"
      ],
      "text/plain": [
       "      account_length  intl_plan  voice_mail_plan  number_vmail_messages  \\\n",
       "0                128      False             True                     25   \n",
       "1                107      False             True                     26   \n",
       "2                137      False            False                      0   \n",
       "3                 84       True            False                      0   \n",
       "4                 75       True            False                      0   \n",
       "...              ...        ...              ...                    ...   \n",
       "4995              50      False             True                     40   \n",
       "4996             152      False            False                      0   \n",
       "4997              61      False            False                      0   \n",
       "4998             109      False            False                      0   \n",
       "4999              86      False             True                     34   \n",
       "\n",
       "      total_day_minutes  total_day_calls  total_day_charge  total_eve_minutes  \\\n",
       "0                 265.1              110             45.07              197.4   \n",
       "1                 161.6              123             27.47              195.5   \n",
       "2                 243.4              114             41.38              121.2   \n",
       "3                 299.4               71             50.90               61.9   \n",
       "4                 166.7              113             28.34              148.3   \n",
       "...                 ...              ...               ...                ...   \n",
       "4995              235.7              127             40.07              223.0   \n",
       "4996              184.2               90             31.31              256.8   \n",
       "4997              140.6               89             23.90              172.8   \n",
       "4998              188.8               67             32.10              171.7   \n",
       "4999              129.4              102             22.00              267.1   \n",
       "\n",
       "      total_eve_calls  total_eve_charge  total_night_minutes  \\\n",
       "0                  99             16.78                244.7   \n",
       "1                 103             16.62                254.4   \n",
       "2                 110             10.30                162.6   \n",
       "3                  88              5.26                196.9   \n",
       "4                 122             12.61                186.9   \n",
       "...               ...               ...                  ...   \n",
       "4995              126             18.96                297.5   \n",
       "4996               73             21.83                213.6   \n",
       "4997              128             14.69                212.4   \n",
       "4998               92             14.59                224.4   \n",
       "4999              104             22.70                154.8   \n",
       "\n",
       "      total_night_calls  total_night_charge  total_intl_minutes  \\\n",
       "0                    91               11.01                10.0   \n",
       "1                   103               11.45                13.7   \n",
       "2                   104                7.32                12.2   \n",
       "3                    89                8.86                 6.6   \n",
       "4                   121                8.41                10.1   \n",
       "...                 ...                 ...                 ...   \n",
       "4995                116               13.39                 9.9   \n",
       "4996                113                9.61                14.7   \n",
       "4997                 97                9.56                13.6   \n",
       "4998                 89               10.10                 8.5   \n",
       "4999                100                6.97                 9.3   \n",
       "\n",
       "      total_intl_calls  total_intl_charge  number_customer_service_calls  \n",
       "0                    3               2.70                              1  \n",
       "1                    3               3.70                              1  \n",
       "2                    5               3.29                              0  \n",
       "3                    7               1.78                              2  \n",
       "4                    3               2.73                              3  \n",
       "...                ...                ...                            ...  \n",
       "4995                 5               2.67                              2  \n",
       "4996                 2               3.97                              3  \n",
       "4997                 4               3.67                              1  \n",
       "4998                 6               2.30                              0  \n",
       "4999                16               2.51                              0  \n",
       "\n",
       "[5000 rows x 17 columns]"
      ]
     },
     "execution_count": 11,
     "metadata": {},
     "output_type": "execute_result"
    }
   ],
   "source": [
    "X = features\n",
    "X"
   ]
  },
  {
   "cell_type": "code",
   "execution_count": 12,
   "id": "7ff346ca",
   "metadata": {
    "execution": {
     "iopub.execute_input": "2021-09-30T19:51:00.470867Z",
     "iopub.status.busy": "2021-09-30T19:51:00.468605Z",
     "iopub.status.idle": "2021-09-30T19:51:00.474574Z",
     "shell.execute_reply": "2021-09-30T19:51:00.474958Z",
     "shell.execute_reply.started": "2021-09-30T05:26:02.940624Z"
    },
    "papermill": {
     "duration": 0.04278,
     "end_time": "2021-09-30T19:51:00.475134",
     "exception": false,
     "start_time": "2021-09-30T19:51:00.432354",
     "status": "completed"
    },
    "tags": []
   },
   "outputs": [
    {
     "name": "stdout",
     "output_type": "stream",
     "text": [
      "[14.14]\n"
     ]
    }
   ],
   "source": [
    "y = df1['churned']\n",
    "# Check the propotion of y = 1\n",
    "print(y.sum() / y.shape * 100)"
   ]
  },
  {
   "cell_type": "code",
   "execution_count": 13,
   "id": "e0680d49",
   "metadata": {
    "execution": {
     "iopub.execute_input": "2021-09-30T19:51:00.549088Z",
     "iopub.status.busy": "2021-09-30T19:51:00.548109Z",
     "iopub.status.idle": "2021-09-30T19:51:00.575162Z",
     "shell.execute_reply": "2021-09-30T19:51:00.574331Z",
     "shell.execute_reply.started": "2021-09-30T05:26:02.948562Z"
    },
    "papermill": {
     "duration": 0.066581,
     "end_time": "2021-09-30T19:51:00.575341",
     "exception": false,
     "start_time": "2021-09-30T19:51:00.508760",
     "status": "completed"
    },
    "tags": []
   },
   "outputs": [
    {
     "name": "stdout",
     "output_type": "stream",
     "text": [
      "Feature space holds 5000 observations and 17 features\n",
      "Unique target labels: [0 1]\n",
      "         0         1         2         3         4         5         6   \\\n",
      "0  0.698941 -0.323240  1.667120  1.273145  1.573802  0.502824  1.574074   \n",
      "1  0.169849 -0.323240  1.667120  1.346973 -0.346802  1.158422 -0.347082   \n",
      "2  0.925695 -0.323240 -0.599837 -0.572549  1.171125  0.704546  1.171286   \n",
      "3 -0.409634  3.093675 -0.599837 -0.572549  2.210292 -1.463971  2.210457   \n",
      "4 -0.636388  3.093675 -0.599837 -0.572549 -0.252163  0.654116 -0.252115   \n",
      "\n",
      "         7         8         9         10        11        12        13  \\\n",
      "0 -0.064032 -0.060077 -0.063849  0.876999 -0.446928  0.876286 -0.094809   \n",
      "1 -0.101621  0.141693 -0.101089  1.068992  0.154374  1.069818  1.245227   \n",
      "2 -1.571562  0.494791 -1.572084 -0.748012  0.204483 -0.746737  0.701969   \n",
      "3 -2.744745 -0.614946 -2.745155 -0.069110 -0.547145 -0.069377 -1.326194   \n",
      "4 -1.035419  1.100103 -1.034426 -0.267041  1.056327 -0.267307 -0.058592   \n",
      "\n",
      "         14        15        16  \n",
      "0 -0.584236 -0.095509 -0.436676  \n",
      "1 -0.584236  1.245982 -0.436676  \n",
      "2  0.229917  0.695971 -1.202236  \n",
      "3  1.044069 -1.329681  0.328885  \n",
      "4 -0.584236 -0.055264  1.094445  \n"
     ]
    }
   ],
   "source": [
    "# Scale the data, using standardization\n",
    "from sklearn.preprocessing import StandardScaler\n",
    "scaler = StandardScaler()\n",
    "X = scaler.fit_transform(X)\n",
    "\n",
    "print (\"Feature space holds %d observations and %d features\" % X.shape)\n",
    "print (\"Unique target labels:\", np.unique(y))\n",
    "print (pd.DataFrame(X).head())"
   ]
  },
  {
   "cell_type": "markdown",
   "id": "697caab7",
   "metadata": {
    "papermill": {
     "duration": 0.033472,
     "end_time": "2021-09-30T19:51:00.643973",
     "exception": false,
     "start_time": "2021-09-30T19:51:00.610501",
     "status": "completed"
    },
    "tags": []
   },
   "source": [
    "Split dat into training and testing "
   ]
  },
  {
   "cell_type": "code",
   "execution_count": 14,
   "id": "4507ca50",
   "metadata": {
    "execution": {
     "iopub.execute_input": "2021-09-30T19:51:00.714965Z",
     "iopub.status.busy": "2021-09-30T19:51:00.714395Z",
     "iopub.status.idle": "2021-09-30T19:51:00.722565Z",
     "shell.execute_reply": "2021-09-30T19:51:00.722080Z",
     "shell.execute_reply.started": "2021-09-30T05:26:02.999487Z"
    },
    "papermill": {
     "duration": 0.044954,
     "end_time": "2021-09-30T19:51:00.722714",
     "exception": false,
     "start_time": "2021-09-30T19:51:00.677760",
     "status": "completed"
    },
    "tags": []
   },
   "outputs": [
    {
     "name": "stdout",
     "output_type": "stream",
     "text": [
      "training data has 4000 observation with 17 features\n",
      "test data has 1000 observation with 17 features\n"
     ]
    }
   ],
   "source": [
    "from sklearn import model_selection\n",
    "\n",
    "# Reserve 20% for testing\n",
    "X_train, X_test, y_train, y_test = model_selection.train_test_split(X, y, test_size=0.2)\n",
    "\n",
    "print('training data has %d observation with %d features'% X_train.shape)\n",
    "print('test data has %d observation with %d features'% X_test.shape)"
   ]
  },
  {
   "cell_type": "code",
   "execution_count": 15,
   "id": "51617ed4",
   "metadata": {
    "execution": {
     "iopub.execute_input": "2021-09-30T19:51:00.795696Z",
     "iopub.status.busy": "2021-09-30T19:51:00.794962Z",
     "iopub.status.idle": "2021-09-30T19:51:00.977803Z",
     "shell.execute_reply": "2021-09-30T19:51:00.977065Z",
     "shell.execute_reply.started": "2021-09-30T05:26:03.010667Z"
    },
    "papermill": {
     "duration": 0.221286,
     "end_time": "2021-09-30T19:51:00.977968",
     "exception": false,
     "start_time": "2021-09-30T19:51:00.756682",
     "status": "completed"
    },
    "tags": []
   },
   "outputs": [],
   "source": [
    "from sklearn.ensemble import RandomForestClassifier\n",
    "from sklearn.neighbors import KNeighborsClassifier \n",
    "from sklearn.linear_model import LogisticRegression\n",
    "\n",
    "# Logistic Regression\n",
    "classifier_logistic = LogisticRegression()\n",
    "\n",
    "# K Nearest Neighbors\n",
    "classifier_KNN = KNeighborsClassifier()\n",
    "\n",
    "# Random Forest\n",
    "classifier_RF = RandomForestClassifier()"
   ]
  },
  {
   "cell_type": "code",
   "execution_count": 16,
   "id": "b5b87de1",
   "metadata": {
    "execution": {
     "iopub.execute_input": "2021-09-30T19:51:01.056283Z",
     "iopub.status.busy": "2021-09-30T19:51:01.051975Z",
     "iopub.status.idle": "2021-09-30T19:51:01.086747Z",
     "shell.execute_reply": "2021-09-30T19:51:01.087533Z",
     "shell.execute_reply.started": "2021-09-30T05:26:03.019583Z"
    },
    "papermill": {
     "duration": 0.075119,
     "end_time": "2021-09-30T19:51:01.087801",
     "exception": false,
     "start_time": "2021-09-30T19:51:01.012682",
     "status": "completed"
    },
    "tags": []
   },
   "outputs": [
    {
     "data": {
      "text/plain": [
       "LogisticRegression()"
      ]
     },
     "execution_count": 16,
     "metadata": {},
     "output_type": "execute_result"
    }
   ],
   "source": [
    "# Train the model\n",
    "classifier_logistic.fit(X_train, y_train)"
   ]
  },
  {
   "cell_type": "code",
   "execution_count": 17,
   "id": "29a957cf",
   "metadata": {
    "execution": {
     "iopub.execute_input": "2021-09-30T19:51:01.214310Z",
     "iopub.status.busy": "2021-09-30T19:51:01.213445Z",
     "iopub.status.idle": "2021-09-30T19:51:01.221193Z",
     "shell.execute_reply": "2021-09-30T19:51:01.222007Z",
     "shell.execute_reply.started": "2021-09-30T05:26:03.07846Z"
    },
    "papermill": {
     "duration": 0.067344,
     "end_time": "2021-09-30T19:51:01.222257",
     "exception": false,
     "start_time": "2021-09-30T19:51:01.154913",
     "status": "completed"
    },
    "tags": []
   },
   "outputs": [
    {
     "data": {
      "text/plain": [
       "array([0, 0, 0, 0, 0, 0, 0, 0, 0, 0, 0, 0, 0, 0, 0, 0, 0, 0, 0, 0, 0, 0,\n",
       "       0, 0, 0, 0, 0, 0, 0, 0, 0, 1, 0, 1, 0, 0, 0, 0, 0, 0, 0, 0, 0, 0,\n",
       "       0, 0, 0, 0, 1, 0, 0, 0, 0, 0, 0, 0, 0, 0, 0, 0, 0, 0, 0, 0, 0, 0,\n",
       "       0, 0, 0, 0, 0, 0, 0, 0, 0, 0, 1, 0, 0, 0, 0, 0, 0, 0, 0, 0, 0, 0,\n",
       "       0, 0, 0, 0, 0, 0, 0, 0, 0, 0, 0, 0, 0, 0, 0, 0, 0, 0, 0, 0, 0, 0,\n",
       "       0, 0, 0, 0, 0, 0, 0, 0, 0, 0, 0, 0, 0, 0, 0, 0, 0, 0, 0, 0, 0, 0,\n",
       "       0, 0, 0, 0, 0, 0, 0, 0, 0, 0, 0, 0, 0, 0, 0, 0, 0, 0, 0, 1, 0, 0,\n",
       "       0, 0, 0, 0, 0, 0, 0, 0, 0, 0, 0, 0, 0, 0, 0, 0, 0, 0, 0, 0, 0, 0,\n",
       "       0, 0, 0, 0, 0, 0, 0, 0, 0, 0, 0, 0, 0, 0, 0, 0, 0, 0, 0, 0, 0, 0,\n",
       "       0, 0, 0, 0, 0, 0, 0, 0, 0, 0, 0, 0, 0, 0, 0, 0, 0, 0, 1, 0, 0, 0,\n",
       "       0, 0, 0, 0, 0, 0, 0, 0, 0, 0, 0, 0, 0, 0, 0, 1, 1, 0, 0, 0, 0, 0,\n",
       "       0, 0, 0, 0, 0, 0, 0, 0, 0, 0, 0, 0, 0, 0, 0, 0, 0, 0, 0, 0, 0, 0,\n",
       "       0, 0, 0, 0, 0, 0, 0, 0, 0, 0, 0, 0, 0, 0, 0, 0, 0, 0, 0, 0, 0, 0,\n",
       "       0, 0, 0, 0, 0, 0, 0, 1, 0, 0, 0, 0, 0, 0, 0, 0, 0, 1, 0, 0, 0, 0,\n",
       "       0, 0, 0, 1, 0, 0, 0, 0, 0, 0, 0, 0, 0, 0, 1, 0, 0, 0, 0, 0, 0, 0,\n",
       "       0, 0, 0, 0, 0, 0, 0, 0, 0, 0, 0, 0, 0, 0, 0, 0, 0, 0, 0, 0, 0, 0,\n",
       "       0, 0, 0, 0, 1, 0, 0, 0, 0, 0, 0, 0, 0, 0, 0, 0, 0, 0, 0, 0, 0, 0,\n",
       "       0, 0, 0, 0, 0, 0, 0, 0, 0, 0, 0, 0, 0, 0, 0, 0, 0, 0, 0, 0, 0, 0,\n",
       "       0, 0, 0, 0, 0, 0, 0, 0, 0, 0, 0, 0, 0, 0, 0, 0, 0, 0, 0, 0, 0, 0,\n",
       "       0, 0, 0, 0, 0, 1, 0, 0, 0, 0, 0, 0, 0, 0, 0, 0, 0, 1, 0, 0, 1, 0,\n",
       "       0, 0, 0, 0, 0, 0, 0, 0, 0, 0, 0, 0, 0, 0, 0, 0, 0, 0, 0, 0, 0, 0,\n",
       "       1, 0, 0, 0, 0, 0, 0, 0, 0, 0, 0, 0, 0, 0, 0, 0, 0, 0, 0, 0, 0, 0,\n",
       "       0, 0, 0, 0, 0, 0, 0, 0, 0, 0, 0, 0, 0, 0, 0, 0, 0, 0, 0, 0, 0, 0,\n",
       "       0, 0, 0, 0, 0, 0, 1, 0, 0, 0, 0, 0, 0, 0, 0, 0, 0, 0, 0, 0, 0, 0,\n",
       "       0, 0, 0, 0, 0, 0, 0, 0, 0, 0, 0, 0, 0, 0, 0, 0, 0, 0, 0, 0, 0, 0,\n",
       "       0, 0, 0, 0, 0, 0, 0, 0, 0, 0, 0, 0, 0, 0, 0, 0, 0, 0, 0, 0, 0, 0,\n",
       "       0, 0, 0, 0, 0, 0, 0, 0, 0, 1, 0, 0, 0, 0, 0, 0, 0, 0, 0, 0, 0, 0,\n",
       "       0, 0, 0, 0, 0, 0, 1, 0, 0, 0, 0, 0, 0, 0, 0, 0, 0, 0, 0, 0, 0, 0,\n",
       "       0, 0, 0, 0, 0, 0, 0, 0, 0, 0, 0, 0, 0, 0, 0, 0, 0, 0, 0, 0, 0, 0,\n",
       "       0, 0, 0, 0, 0, 0, 0, 0, 0, 0, 0, 0, 0, 0, 0, 0, 0, 0, 0, 0, 0, 0,\n",
       "       1, 0, 0, 0, 0, 1, 0, 0, 0, 0, 0, 0, 0, 0, 0, 1, 0, 0, 0, 0, 0, 0,\n",
       "       0, 0, 0, 0, 0, 0, 0, 0, 0, 0, 1, 0, 0, 0, 0, 0, 0, 0, 0, 0, 0, 0,\n",
       "       0, 0, 0, 0, 0, 0, 0, 0, 0, 0, 0, 0, 0, 0, 0, 0, 0, 0, 1, 0, 0, 0,\n",
       "       0, 0, 0, 0, 0, 0, 0, 0, 0, 0, 1, 0, 0, 0, 0, 0, 0, 0, 0, 0, 0, 0,\n",
       "       0, 0, 0, 0, 0, 0, 0, 0, 0, 0, 0, 0, 0, 0, 0, 0, 0, 0, 0, 0, 0, 0,\n",
       "       0, 0, 0, 1, 0, 0, 0, 0, 0, 0, 0, 0, 0, 0, 1, 0, 0, 1, 0, 0, 0, 0,\n",
       "       0, 0, 0, 0, 0, 0, 0, 0, 0, 0, 0, 0, 0, 0, 0, 0, 0, 0, 0, 0, 0, 0,\n",
       "       0, 0, 0, 0, 0, 1, 0, 0, 0, 0, 0, 0, 0, 0, 0, 0, 0, 0, 0, 0, 0, 0,\n",
       "       0, 0, 0, 0, 0, 0, 0, 0, 0, 0, 0, 1, 0, 0, 0, 0, 0, 0, 0, 1, 1, 0,\n",
       "       0, 0, 0, 0, 0, 0, 0, 0, 0, 0, 0, 0, 0, 0, 0, 0, 0, 0, 0, 0, 0, 0,\n",
       "       1, 0, 0, 0, 0, 0, 0, 0, 0, 0, 0, 0, 0, 0, 0, 0, 0, 0, 0, 0, 0, 0,\n",
       "       0, 0, 0, 0, 0, 0, 0, 0, 0, 0, 0, 0, 0, 0, 0, 0, 0, 1, 0, 0, 0, 0,\n",
       "       0, 0, 0, 0, 0, 0, 0, 0, 0, 0, 0, 0, 0, 0, 0, 1, 0, 0, 0, 0, 0, 0,\n",
       "       0, 0, 0, 0, 0, 0, 0, 1, 0, 0, 0, 0, 0, 0, 0, 0, 1, 0, 0, 0, 0, 0,\n",
       "       0, 0, 0, 0, 0, 0, 0, 0, 0, 0, 0, 0, 0, 0, 0, 0, 0, 0, 0, 0, 0, 0,\n",
       "       0, 0, 0, 0, 0, 0, 0, 0, 0, 0])"
      ]
     },
     "execution_count": 17,
     "metadata": {},
     "output_type": "execute_result"
    }
   ],
   "source": [
    "# Prediction of test data\n",
    "classifier_logistic.predict(X_test)"
   ]
  },
  {
   "cell_type": "code",
   "execution_count": 18,
   "id": "7121e981",
   "metadata": {
    "execution": {
     "iopub.execute_input": "2021-09-30T19:51:01.350998Z",
     "iopub.status.busy": "2021-09-30T19:51:01.350059Z",
     "iopub.status.idle": "2021-09-30T19:51:01.355178Z",
     "shell.execute_reply": "2021-09-30T19:51:01.356071Z",
     "shell.execute_reply.started": "2021-09-30T05:26:03.105211Z"
    },
    "papermill": {
     "duration": 0.067127,
     "end_time": "2021-09-30T19:51:01.356437",
     "exception": false,
     "start_time": "2021-09-30T19:51:01.289310",
     "status": "completed"
    },
    "tags": []
   },
   "outputs": [
    {
     "data": {
      "text/plain": [
       "0.861"
      ]
     },
     "execution_count": 18,
     "metadata": {},
     "output_type": "execute_result"
    }
   ],
   "source": [
    "# Accuracy of test data\n",
    "classifier_logistic.score(X_test, y_test)"
   ]
  },
  {
   "cell_type": "code",
   "execution_count": 19,
   "id": "27ff8905",
   "metadata": {
    "execution": {
     "iopub.execute_input": "2021-09-30T19:51:01.488285Z",
     "iopub.status.busy": "2021-09-30T19:51:01.487679Z",
     "iopub.status.idle": "2021-09-30T19:51:11.259523Z",
     "shell.execute_reply": "2021-09-30T19:51:11.258929Z",
     "shell.execute_reply.started": "2021-09-30T05:26:03.121974Z"
    },
    "papermill": {
     "duration": 9.83504,
     "end_time": "2021-09-30T19:51:11.259659",
     "exception": false,
     "start_time": "2021-09-30T19:51:01.424619",
     "status": "completed"
    },
    "tags": []
   },
   "outputs": [
    {
     "name": "stdout",
     "output_type": "stream",
     "text": [
      "Model accuracy of Logistic Regression is: 0.863\n",
      "Model accuracy of KNN is: 0.895\n",
      "Model accuracy of Random Forest is: 0.958\n"
     ]
    }
   ],
   "source": [
    "# Use 10-fold Cross Validation to get the accuracy for different models\n",
    "model_names = ['Logistic Regression','KNN','Random Forest']\n",
    "model_list = [classifier_logistic, classifier_KNN, classifier_RF]\n",
    "count = 0\n",
    "\n",
    "for classifier in model_list:\n",
    "    cv_score = model_selection.cross_val_score(classifier, X_train, y_train, cv=10)\n",
    "    # cprint(cv_score)\n",
    "    print('Model accuracy of %s is: %.3f'%(model_names[count],cv_score.mean()))\n",
    "    count += 1"
   ]
  },
  {
   "cell_type": "code",
   "execution_count": 20,
   "id": "5721c6de",
   "metadata": {
    "execution": {
     "iopub.execute_input": "2021-09-30T19:51:11.346797Z",
     "iopub.status.busy": "2021-09-30T19:51:11.345902Z",
     "iopub.status.idle": "2021-09-30T19:51:13.878196Z",
     "shell.execute_reply": "2021-09-30T19:51:13.877643Z",
     "shell.execute_reply.started": "2021-09-30T05:26:13.440313Z"
    },
    "papermill": {
     "duration": 2.58275,
     "end_time": "2021-09-30T19:51:13.878328",
     "exception": false,
     "start_time": "2021-09-30T19:51:11.295578",
     "status": "completed"
    },
    "tags": []
   },
   "outputs": [
    {
     "name": "stdout",
     "output_type": "stream",
     "text": [
      "Model accuracy of SVM is: 0.923\n"
     ]
    }
   ],
   "source": [
    "# Prediction using SVM\n",
    "from sklearn.svm import SVC \n",
    "\n",
    "classifier_SVC = SVC()\n",
    "\n",
    "cv_score = model_selection.cross_val_score(classifier_SVC, X_train, y_train, cv=10)\n",
    "print('Model accuracy of SVM is: %.3f'%(cv_score.mean()))"
   ]
  },
  {
   "cell_type": "markdown",
   "id": "5034e863",
   "metadata": {
    "papermill": {
     "duration": 0.035815,
     "end_time": "2021-09-30T19:51:13.949948",
     "exception": false,
     "start_time": "2021-09-30T19:51:13.914133",
     "status": "completed"
    },
    "tags": []
   },
   "source": [
    "### Use Grid Search to Find Optimal Hyperparameters"
   ]
  },
  {
   "cell_type": "code",
   "execution_count": 21,
   "id": "d5aa6458",
   "metadata": {
    "execution": {
     "iopub.execute_input": "2021-09-30T19:51:14.024073Z",
     "iopub.status.busy": "2021-09-30T19:51:14.023499Z",
     "iopub.status.idle": "2021-09-30T19:51:14.027610Z",
     "shell.execute_reply": "2021-09-30T19:51:14.028032Z",
     "shell.execute_reply.started": "2021-09-30T05:47:16.60128Z"
    },
    "papermill": {
     "duration": 0.042543,
     "end_time": "2021-09-30T19:51:14.028188",
     "exception": false,
     "start_time": "2021-09-30T19:51:13.985645",
     "status": "completed"
    },
    "tags": []
   },
   "outputs": [],
   "source": [
    "from sklearn.model_selection import GridSearchCV\n",
    "\n",
    "# helper function for printing out grid search results \n",
    "def print_grid_search_metrics(gs):\n",
    "    print (\"Best score: %0.3f\" % gs.best_score_)\n",
    "    print (\"Best parameters set:\")\n",
    "    best_parameters = gs.best_params_\n",
    "    for param_name in sorted(parameters.keys()):\n",
    "        print(\"\\t%s: %r\" % (param_name, best_parameters[param_name]))"
   ]
  },
  {
   "cell_type": "markdown",
   "id": "828dc61f",
   "metadata": {
    "papermill": {
     "duration": 0.035724,
     "end_time": "2021-09-30T19:51:14.099935",
     "exception": false,
     "start_time": "2021-09-30T19:51:14.064211",
     "status": "completed"
    },
    "tags": []
   },
   "source": [
    "### Find Optimal Hyperparameters: Logistic Regression"
   ]
  },
  {
   "cell_type": "code",
   "execution_count": 22,
   "id": "980082fa",
   "metadata": {
    "execution": {
     "iopub.execute_input": "2021-09-30T19:51:14.174680Z",
     "iopub.status.busy": "2021-09-30T19:51:14.174103Z",
     "iopub.status.idle": "2021-09-30T19:51:18.779900Z",
     "shell.execute_reply": "2021-09-30T19:51:18.780393Z",
     "shell.execute_reply.started": "2021-09-30T05:53:54.203714Z"
    },
    "papermill": {
     "duration": 4.644868,
     "end_time": "2021-09-30T19:51:18.780564",
     "exception": false,
     "start_time": "2021-09-30T19:51:14.135696",
     "status": "completed"
    },
    "tags": []
   },
   "outputs": [
    {
     "data": {
      "text/plain": [
       "GridSearchCV(cv=5,\n",
       "             estimator=LogisticRegression(max_iter=1000, solver='liblinear'),\n",
       "             param_grid={'C': (1, 5, 10), 'penalty': ('l1', 'l2')})"
      ]
     },
     "execution_count": 22,
     "metadata": {},
     "output_type": "execute_result"
    }
   ],
   "source": [
    "# Possible hyperparamter options for Logistic Regression Regularization\n",
    "# Penalty is choosed from L1 or L2\n",
    "# C is the lambda value(weight) for L1 and L2\n",
    "\n",
    "parameters = {\n",
    "    'penalty':('l1', 'l2')\n",
    "    ,'C':(1,5,10)\n",
    "}\n",
    "# solver = 'liblinear', class_weight = 'balanced', max_iter=1000\n",
    "Grid_LR = GridSearchCV(LogisticRegression(solver = 'liblinear', max_iter=1000), parameters, cv=5)\n",
    "Grid_LR.fit(X_train, y_train)"
   ]
  },
  {
   "cell_type": "code",
   "execution_count": 23,
   "id": "4a2c92e8",
   "metadata": {
    "execution": {
     "iopub.execute_input": "2021-09-30T19:51:18.858940Z",
     "iopub.status.busy": "2021-09-30T19:51:18.858163Z",
     "iopub.status.idle": "2021-09-30T19:51:18.862005Z",
     "shell.execute_reply": "2021-09-30T19:51:18.861531Z",
     "shell.execute_reply.started": "2021-09-30T05:56:06.118408Z"
    },
    "papermill": {
     "duration": 0.045252,
     "end_time": "2021-09-30T19:51:18.862135",
     "exception": false,
     "start_time": "2021-09-30T19:51:18.816883",
     "status": "completed"
    },
    "tags": []
   },
   "outputs": [
    {
     "name": "stdout",
     "output_type": "stream",
     "text": [
      "Best score: 0.864\n",
      "Best parameters set:\n",
      "\tC: 1\n",
      "\tpenalty: 'l1'\n"
     ]
    }
   ],
   "source": [
    "# the best hyperparameter combination\n",
    "print_grid_search_metrics(Grid_LR)"
   ]
  },
  {
   "cell_type": "code",
   "execution_count": 24,
   "id": "41bc020a",
   "metadata": {
    "execution": {
     "iopub.execute_input": "2021-09-30T19:51:18.940404Z",
     "iopub.status.busy": "2021-09-30T19:51:18.939769Z",
     "iopub.status.idle": "2021-09-30T19:51:18.942068Z",
     "shell.execute_reply": "2021-09-30T19:51:18.942461Z",
     "shell.execute_reply.started": "2021-09-30T05:56:18.352874Z"
    },
    "papermill": {
     "duration": 0.043843,
     "end_time": "2021-09-30T19:51:18.942638",
     "exception": false,
     "start_time": "2021-09-30T19:51:18.898795",
     "status": "completed"
    },
    "tags": []
   },
   "outputs": [],
   "source": [
    "# best model\n",
    "best_LR_model = Grid_LR.best_estimator_"
   ]
  },
  {
   "cell_type": "markdown",
   "id": "6ba70b7a",
   "metadata": {
    "papermill": {
     "duration": 0.036219,
     "end_time": "2021-09-30T19:51:19.016287",
     "exception": false,
     "start_time": "2021-09-30T19:51:18.980068",
     "status": "completed"
    },
    "tags": []
   },
   "source": [
    " ### Find Optimal Hyperparameters: KNN"
   ]
  },
  {
   "cell_type": "code",
   "execution_count": 25,
   "id": "c2bb8b6b",
   "metadata": {
    "execution": {
     "iopub.execute_input": "2021-09-30T19:51:19.093837Z",
     "iopub.status.busy": "2021-09-30T19:51:19.093177Z",
     "iopub.status.idle": "2021-09-30T19:51:21.462262Z",
     "shell.execute_reply": "2021-09-30T19:51:21.461775Z",
     "shell.execute_reply.started": "2021-09-30T05:42:07.074933Z"
    },
    "papermill": {
     "duration": 2.408757,
     "end_time": "2021-09-30T19:51:21.462426",
     "exception": false,
     "start_time": "2021-09-30T19:51:19.053669",
     "status": "completed"
    },
    "tags": []
   },
   "outputs": [
    {
     "data": {
      "text/plain": [
       "GridSearchCV(cv=10, estimator=KNeighborsClassifier(),\n",
       "             param_grid={'n_neighbors': [3, 5, 7, 10]})"
      ]
     },
     "execution_count": 25,
     "metadata": {},
     "output_type": "execute_result"
    }
   ],
   "source": [
    "# Possible hyperparamter options for KNN\n",
    "# Choose k\n",
    "parameters = {\n",
    "    'n_neighbors':[3,5,7,10] \n",
    "}\n",
    "Grid_KNN = GridSearchCV(KNeighborsClassifier(),parameters, cv=10)\n",
    "Grid_KNN.fit(X_train, y_train)"
   ]
  },
  {
   "cell_type": "code",
   "execution_count": 26,
   "id": "78b66048",
   "metadata": {
    "execution": {
     "iopub.execute_input": "2021-09-30T19:51:21.542746Z",
     "iopub.status.busy": "2021-09-30T19:51:21.541890Z",
     "iopub.status.idle": "2021-09-30T19:51:21.545812Z",
     "shell.execute_reply": "2021-09-30T19:51:21.545268Z",
     "shell.execute_reply.started": "2021-09-30T05:42:10.485489Z"
    },
    "papermill": {
     "duration": 0.046366,
     "end_time": "2021-09-30T19:51:21.545979",
     "exception": false,
     "start_time": "2021-09-30T19:51:21.499613",
     "status": "completed"
    },
    "tags": []
   },
   "outputs": [
    {
     "name": "stdout",
     "output_type": "stream",
     "text": [
      "Best score: 0.895\n",
      "Best parameters set:\n",
      "\tn_neighbors: 5\n"
     ]
    }
   ],
   "source": [
    "# best k\n",
    "print_grid_search_metrics(Grid_KNN)"
   ]
  },
  {
   "cell_type": "markdown",
   "id": "6b959b0f",
   "metadata": {
    "papermill": {
     "duration": 0.037437,
     "end_time": "2021-09-30T19:51:21.620896",
     "exception": false,
     "start_time": "2021-09-30T19:51:21.583459",
     "status": "completed"
    },
    "tags": []
   },
   "source": [
    "### Find Optimal Hyperparameters: Random Forest"
   ]
  },
  {
   "cell_type": "code",
   "execution_count": 27,
   "id": "3775c504",
   "metadata": {
    "execution": {
     "iopub.execute_input": "2021-09-30T19:51:21.702290Z",
     "iopub.status.busy": "2021-09-30T19:51:21.701674Z",
     "iopub.status.idle": "2021-09-30T19:51:38.314218Z",
     "shell.execute_reply": "2021-09-30T19:51:38.313415Z",
     "shell.execute_reply.started": "2021-09-30T05:42:42.263884Z"
    },
    "papermill": {
     "duration": 16.656102,
     "end_time": "2021-09-30T19:51:38.314447",
     "exception": false,
     "start_time": "2021-09-30T19:51:21.658345",
     "status": "completed"
    },
    "tags": []
   },
   "outputs": [
    {
     "data": {
      "text/plain": [
       "GridSearchCV(cv=10, estimator=RandomForestClassifier(),\n",
       "             param_grid={'n_estimators': [40, 60, 80]})"
      ]
     },
     "execution_count": 27,
     "metadata": {},
     "output_type": "execute_result"
    }
   ],
   "source": [
    "# Possible hyperparamter options for Random Forest\n",
    "# Choose the number of trees\n",
    "parameters = {\n",
    "    'n_estimators' : [40,60,80]\n",
    "}\n",
    "Grid_RF = GridSearchCV(RandomForestClassifier(),parameters, cv=10)\n",
    "Grid_RF.fit(X_train, y_train)"
   ]
  },
  {
   "cell_type": "code",
   "execution_count": 28,
   "id": "5632366f",
   "metadata": {
    "execution": {
     "iopub.execute_input": "2021-09-30T19:51:38.396083Z",
     "iopub.status.busy": "2021-09-30T19:51:38.395516Z",
     "iopub.status.idle": "2021-09-30T19:51:38.400074Z",
     "shell.execute_reply": "2021-09-30T19:51:38.399647Z",
     "shell.execute_reply.started": "2021-09-30T05:43:05.408166Z"
    },
    "papermill": {
     "duration": 0.044383,
     "end_time": "2021-09-30T19:51:38.400209",
     "exception": false,
     "start_time": "2021-09-30T19:51:38.355826",
     "status": "completed"
    },
    "tags": []
   },
   "outputs": [
    {
     "name": "stdout",
     "output_type": "stream",
     "text": [
      "Best score: 0.960\n",
      "Best parameters set:\n",
      "\tn_estimators: 40\n"
     ]
    }
   ],
   "source": [
    "# best number of tress\n",
    "print_grid_search_metrics(Grid_RF)"
   ]
  },
  {
   "cell_type": "code",
   "execution_count": 29,
   "id": "8c097497",
   "metadata": {
    "execution": {
     "iopub.execute_input": "2021-09-30T19:51:38.479200Z",
     "iopub.status.busy": "2021-09-30T19:51:38.478637Z",
     "iopub.status.idle": "2021-09-30T19:51:38.480920Z",
     "shell.execute_reply": "2021-09-30T19:51:38.480398Z",
     "shell.execute_reply.started": "2021-09-30T05:43:23.725437Z"
    },
    "papermill": {
     "duration": 0.043422,
     "end_time": "2021-09-30T19:51:38.481044",
     "exception": false,
     "start_time": "2021-09-30T19:51:38.437622",
     "status": "completed"
    },
    "tags": []
   },
   "outputs": [],
   "source": [
    "# best random forest\n",
    "best_RF_model = Grid_RF.best_estimator_"
   ]
  },
  {
   "cell_type": "markdown",
   "id": "5d9afc51",
   "metadata": {
    "papermill": {
     "duration": 0.037708,
     "end_time": "2021-09-30T19:51:38.557412",
     "exception": false,
     "start_time": "2021-09-30T19:51:38.519704",
     "status": "completed"
    },
    "tags": []
   },
   "source": [
    "### Model Evaluation - Confusion Matrix (Precision, Recall, Accuracy)\n"
   ]
  },
  {
   "cell_type": "code",
   "execution_count": 30,
   "id": "236ea50e",
   "metadata": {
    "execution": {
     "iopub.execute_input": "2021-09-30T19:51:38.642810Z",
     "iopub.status.busy": "2021-09-30T19:51:38.634860Z",
     "iopub.status.idle": "2021-09-30T19:51:38.645410Z",
     "shell.execute_reply": "2021-09-30T19:51:38.644915Z",
     "shell.execute_reply.started": "2021-09-30T05:56:42.404683Z"
    },
    "papermill": {
     "duration": 0.050623,
     "end_time": "2021-09-30T19:51:38.645550",
     "exception": false,
     "start_time": "2021-09-30T19:51:38.594927",
     "status": "completed"
    },
    "tags": []
   },
   "outputs": [],
   "source": [
    "from sklearn.metrics import confusion_matrix\n",
    "from sklearn.metrics import classification_report\n",
    "from sklearn.metrics import precision_score\n",
    "from sklearn.metrics import recall_score\n",
    "\n",
    "# calculate accuracy, precision and recall\n",
    "def cal_evaluation(classifier, cm):\n",
    "    tn = cm[0][0]\n",
    "    fp = cm[0][1]\n",
    "    fn = cm[1][0]\n",
    "    tp = cm[1][1]\n",
    "    accuracy  = (tp + tn) / (tp + fp + fn + tn + 0.0)\n",
    "    precision = tp / (tp + fp + 0.0)\n",
    "    recall = tp / (tp + fn + 0.0)\n",
    "    print (classifier)\n",
    "    print (\"Accuracy is: %0.3f\" % accuracy)\n",
    "    print (\"precision is: %0.3f\" % precision)\n",
    "    print (\"recall is: %0.3f\" % recall)\n",
    "\n",
    "# print out confusion matrices\n",
    "def draw_confusion_matrices(confusion_matricies):\n",
    "    class_names = ['Not','Churn']\n",
    "    for cm in confusion_matrices:\n",
    "        classifier, cm = cm[0], cm[1]\n",
    "        cal_evaluation(classifier, cm)\n",
    "        fig = plt.figure()\n",
    "        ax = fig.add_subplot(111)\n",
    "        cax = ax.matshow(cm, interpolation='nearest',cmap=plt.get_cmap('Reds'))\n",
    "        plt.title('Confusion matrix for %s' % classifier)\n",
    "        fig.colorbar(cax)\n",
    "        ax.set_xticklabels([''] + class_names)\n",
    "        ax.set_yticklabels([''] + class_names)\n",
    "        plt.xlabel('Predicted')\n",
    "        plt.ylabel('True')\n",
    "        plt.show()"
   ]
  },
  {
   "cell_type": "code",
   "execution_count": 31,
   "id": "55a018b9",
   "metadata": {
    "execution": {
     "iopub.execute_input": "2021-09-30T19:51:38.728533Z",
     "iopub.status.busy": "2021-09-30T19:51:38.727582Z",
     "iopub.status.idle": "2021-09-30T19:51:39.325256Z",
     "shell.execute_reply": "2021-09-30T19:51:39.326110Z",
     "shell.execute_reply.started": "2021-09-30T05:56:43.936495Z"
    },
    "papermill": {
     "duration": 0.643391,
     "end_time": "2021-09-30T19:51:39.326405",
     "exception": false,
     "start_time": "2021-09-30T19:51:38.683014",
     "status": "completed"
    },
    "tags": []
   },
   "outputs": [
    {
     "name": "stdout",
     "output_type": "stream",
     "text": [
      "Random Forest\n",
      "Accuracy is: 0.954\n",
      "precision is: 0.920\n",
      "recall is: 0.738\n"
     ]
    },
    {
     "name": "stderr",
     "output_type": "stream",
     "text": [
      "/opt/conda/lib/python3.7/site-packages/ipykernel_launcher.py:31: UserWarning: FixedFormatter should only be used together with FixedLocator\n",
      "/opt/conda/lib/python3.7/site-packages/ipykernel_launcher.py:32: UserWarning: FixedFormatter should only be used together with FixedLocator\n"
     ]
    },
    {
     "data": {
      "image/png": "[encoded data removed]",
      "text/plain": [
       "<Figure size 432x288 with 2 Axes>"
      ]
     },
     "metadata": {
      "needs_background": "light"
     },
     "output_type": "display_data"
    },
    {
     "name": "stdout",
     "output_type": "stream",
     "text": [
      "Logistic Regression\n",
      "Accuracy is: 0.862\n",
      "precision is: 0.541\n",
      "recall is: 0.142\n"
     ]
    },
    {
     "data": {
      "image/png": "[encoded data removed]",
      "text/plain": [
       "<Figure size 432x288 with 2 Axes>"
      ]
     },
     "metadata": {
      "needs_background": "light"
     },
     "output_type": "display_data"
    }
   ],
   "source": [
    "%matplotlib inline\n",
    "\n",
    "# Confusion matrix, accuracy, precison and recall for random forest and logistic regression\n",
    "confusion_matrices = [\n",
    "    (\"Random Forest\", confusion_matrix(y_test,best_RF_model.predict(X_test))),\n",
    "    (\"Logistic Regression\", confusion_matrix(y_test,best_LR_model.predict(X_test))),\n",
    "]\n",
    "\n",
    "draw_confusion_matrices(confusion_matrices)"
   ]
  },
  {
   "cell_type": "markdown",
   "id": "ccaef87d",
   "metadata": {
    "papermill": {
     "duration": 0.03897,
     "end_time": "2021-09-30T19:51:39.426809",
     "exception": false,
     "start_time": "2021-09-30T19:51:39.387839",
     "status": "completed"
    },
    "tags": []
   },
   "source": [
    "### Model Evaluation - ROC & AUC"
   ]
  },
  {
   "cell_type": "markdown",
   "id": "1ec5c053",
   "metadata": {
    "papermill": {
     "duration": 0.038859,
     "end_time": "2021-09-30T19:51:39.504977",
     "exception": false,
     "start_time": "2021-09-30T19:51:39.466118",
     "status": "completed"
    },
    "tags": []
   },
   "source": [
    "#### Part 3.4.1: ROC of RF Model"
   ]
  },
  {
   "cell_type": "code",
   "execution_count": 32,
   "id": "6d0e9499",
   "metadata": {
    "execution": {
     "iopub.execute_input": "2021-09-30T19:51:39.589792Z",
     "iopub.status.busy": "2021-09-30T19:51:39.586640Z",
     "iopub.status.idle": "2021-09-30T19:51:39.603516Z",
     "shell.execute_reply": "2021-09-30T19:51:39.602840Z",
     "shell.execute_reply.started": "2021-09-30T05:58:59.733659Z"
    },
    "papermill": {
     "duration": 0.058665,
     "end_time": "2021-09-30T19:51:39.603664",
     "exception": false,
     "start_time": "2021-09-30T19:51:39.544999",
     "status": "completed"
    },
    "tags": []
   },
   "outputs": [],
   "source": [
    "from sklearn.metrics import roc_curve\n",
    "from sklearn import metrics\n",
    "\n",
    "# Use predict_proba to get the probability results of Random Forest\n",
    "y_pred_rf = best_RF_model.predict_proba(X_test)[:, 1]\n",
    "fpr_rf, tpr_rf, _ = roc_curve(y_test, y_pred_rf)"
   ]
  },
  {
   "cell_type": "code",
   "execution_count": 33,
   "id": "6d794494",
   "metadata": {
    "execution": {
     "iopub.execute_input": "2021-09-30T19:51:39.709903Z",
     "iopub.status.busy": "2021-09-30T19:51:39.707875Z",
     "iopub.status.idle": "2021-09-30T19:51:39.886860Z",
     "shell.execute_reply": "2021-09-30T19:51:39.886240Z",
     "shell.execute_reply.started": "2021-09-30T05:59:04.644683Z"
    },
    "papermill": {
     "duration": 0.24416,
     "end_time": "2021-09-30T19:51:39.887006",
     "exception": false,
     "start_time": "2021-09-30T19:51:39.642846",
     "status": "completed"
    },
    "tags": []
   },
   "outputs": [
    {
     "data": {
      "image/png": "[encoded data removed]",
      "text/plain": [
       "<Figure size 432x288 with 1 Axes>"
      ]
     },
     "metadata": {
      "needs_background": "light"
     },
     "output_type": "display_data"
    }
   ],
   "source": [
    "# ROC curve of Random Forest result\n",
    "plt.figure(1)\n",
    "plt.plot([0, 1], [0, 1], 'k--')\n",
    "plt.plot(fpr_rf, tpr_rf, label='RF')\n",
    "plt.xlabel('False positive rate')\n",
    "plt.ylabel('True positive rate')\n",
    "plt.title('ROC curve - RF model')\n",
    "plt.legend(loc='best')\n",
    "plt.show()"
   ]
  },
  {
   "cell_type": "code",
   "execution_count": 34,
   "id": "08d865b7",
   "metadata": {
    "execution": {
     "iopub.execute_input": "2021-09-30T19:51:39.974225Z",
     "iopub.status.busy": "2021-09-30T19:51:39.973488Z",
     "iopub.status.idle": "2021-09-30T19:51:39.976437Z",
     "shell.execute_reply": "2021-09-30T19:51:39.976906Z",
     "shell.execute_reply.started": "2021-09-30T05:59:18.440494Z"
    },
    "papermill": {
     "duration": 0.049098,
     "end_time": "2021-09-30T19:51:39.977069",
     "exception": false,
     "start_time": "2021-09-30T19:51:39.927971",
     "status": "completed"
    },
    "tags": []
   },
   "outputs": [
    {
     "data": {
      "text/plain": [
       "0.915149563652276"
      ]
     },
     "execution_count": 34,
     "metadata": {},
     "output_type": "execute_result"
    }
   ],
   "source": [
    "from sklearn import metrics\n",
    "\n",
    "# AUC score\n",
    "metrics.auc(fpr_rf,tpr_rf)"
   ]
  },
  {
   "cell_type": "markdown",
   "id": "5c26defa",
   "metadata": {
    "papermill": {
     "duration": 0.041807,
     "end_time": "2021-09-30T19:51:40.059127",
     "exception": false,
     "start_time": "2021-09-30T19:51:40.017320",
     "status": "completed"
    },
    "tags": []
   },
   "source": [
    "ROC of LR Model"
   ]
  },
  {
   "cell_type": "code",
   "execution_count": 35,
   "id": "95af2f0a",
   "metadata": {
    "execution": {
     "iopub.execute_input": "2021-09-30T19:51:40.144463Z",
     "iopub.status.busy": "2021-09-30T19:51:40.143531Z",
     "iopub.status.idle": "2021-09-30T19:51:40.351921Z",
     "shell.execute_reply": "2021-09-30T19:51:40.351128Z",
     "shell.execute_reply.started": "2021-09-30T05:59:50.091349Z"
    },
    "papermill": {
     "duration": 0.251467,
     "end_time": "2021-09-30T19:51:40.352061",
     "exception": false,
     "start_time": "2021-09-30T19:51:40.100594",
     "status": "completed"
    },
    "tags": []
   },
   "outputs": [
    {
     "data": {
      "image/png": "[encoded data removed]",
      "text/plain": [
       "<Figure size 432x288 with 1 Axes>"
      ]
     },
     "metadata": {
      "needs_background": "light"
     },
     "output_type": "display_data"
    }
   ],
   "source": [
    "# Use predict_proba to get the probability results of Logistic Regression\n",
    "y_pred_lr = best_LR_model.predict_proba(X_test)[:, 1]\n",
    "fpr_lr, tpr_lr, _ = roc_curve(y_test, y_pred_lr)\n",
    "\n",
    "# ROC Curve\n",
    "plt.figure(1)\n",
    "plt.plot([0, 1], [0, 1], 'k--')\n",
    "plt.plot(fpr_lr, tpr_lr, label='LR')\n",
    "plt.xlabel('False positive rate')\n",
    "plt.ylabel('True positive rate')\n",
    "plt.title('ROC curve - LR Model')\n",
    "plt.legend(loc='best')\n",
    "plt.show()"
   ]
  },
  {
   "cell_type": "code",
   "execution_count": 36,
   "id": "9e1ec78c",
   "metadata": {
    "execution": {
     "iopub.execute_input": "2021-09-30T19:51:40.440546Z",
     "iopub.status.busy": "2021-09-30T19:51:40.439914Z",
     "iopub.status.idle": "2021-09-30T19:51:40.443442Z",
     "shell.execute_reply": "2021-09-30T19:51:40.443894Z",
     "shell.execute_reply.started": "2021-09-30T06:01:15.606126Z"
    },
    "papermill": {
     "duration": 0.050954,
     "end_time": "2021-09-30T19:51:40.444056",
     "exception": false,
     "start_time": "2021-09-30T19:51:40.393102",
     "status": "completed"
    },
    "tags": []
   },
   "outputs": [
    {
     "data": {
      "text/plain": [
       "0.8275910468217208"
      ]
     },
     "execution_count": 36,
     "metadata": {},
     "output_type": "execute_result"
    }
   ],
   "source": [
    "# AUC score\n",
    "metrics.auc(fpr_lr,tpr_lr)"
   ]
  },
  {
   "cell_type": "markdown",
   "id": "eb9aaf5f",
   "metadata": {
    "papermill": {
     "duration": 0.041205,
     "end_time": "2021-09-30T19:51:40.526755",
     "exception": false,
     "start_time": "2021-09-30T19:51:40.485550",
     "status": "completed"
    },
    "tags": []
   },
   "source": [
    "### Feature Selection"
   ]
  },
  {
   "cell_type": "markdown",
   "id": "c0522523",
   "metadata": {
    "papermill": {
     "duration": 0.040889,
     "end_time": "2021-09-30T19:51:40.608993",
     "exception": false,
     "start_time": "2021-09-30T19:51:40.568104",
     "status": "completed"
    },
    "tags": []
   },
   "source": [
    "#### Logistic Regression Model - Feature Selection Discussion \n",
    "The corelated features that we are interested in: (total_day_minutes, total_day_charge), (total_eve_minutes, total_eve_charge), (total_intl_minutes, total_intl_charge)."
   ]
  },
  {
   "cell_type": "code",
   "execution_count": 37,
   "id": "e0a8eb57",
   "metadata": {
    "execution": {
     "iopub.execute_input": "2021-09-30T19:51:40.697518Z",
     "iopub.status.busy": "2021-09-30T19:51:40.696911Z",
     "iopub.status.idle": "2021-09-30T19:51:40.749622Z",
     "shell.execute_reply": "2021-09-30T19:51:40.750051Z",
     "shell.execute_reply.started": "2021-09-30T06:01:53.420058Z"
    },
    "papermill": {
     "duration": 0.099926,
     "end_time": "2021-09-30T19:51:40.750211",
     "exception": false,
     "start_time": "2021-09-30T19:51:40.650285",
     "status": "completed"
    },
    "tags": []
   },
   "outputs": [
    {
     "name": "stdout",
     "output_type": "stream",
     "text": [
      "Logistic Regression (L1) Coefficients\n",
      "voice_mail_plan: -0.8658\n",
      "number_customer_service_calls: 0.673\n",
      "intl_plan: 0.613\n",
      "total_day_minutes: 0.4939\n",
      "number_vmail_messages: 0.3961\n",
      "total_eve_minutes: 0.3014\n",
      "total_day_charge: 0.2405\n",
      "total_intl_charge: 0.1748\n",
      "total_intl_calls: -0.1743\n",
      "total_night_minutes: 0.1646\n",
      "total_intl_minutes: 0.0686\n",
      "total_eve_charge: 0.0564\n",
      "account_length: 0.0534\n",
      "total_day_calls: 0.0495\n",
      "total_night_charge: 0.0371\n",
      "total_night_calls: -0.0288\n",
      "total_eve_calls: -0.0284\n"
     ]
    }
   ],
   "source": [
    "# add L1 regularization to logistic regression\n",
    "# check the coef for feature selection\n",
    "LRmodel_l1 = LogisticRegression(penalty=\"l1\",solver = 'liblinear')\n",
    "LRmodel_l1.fit(X, y)\n",
    "LRmodel_l1.coef_[0]\n",
    "print (\"Logistic Regression (L1) Coefficients\")\n",
    "for k,v in sorted(zip(map(lambda x: round(x, 4), LRmodel_l1.coef_[0]), \\\n",
    "                      features.columns), key=lambda k_v:(-abs(k_v[0]),k_v[1])):\n",
    "    print (v + \": \" + str(k))"
   ]
  },
  {
   "cell_type": "markdown",
   "id": "f43e021a",
   "metadata": {
    "papermill": {
     "duration": 0.041041,
     "end_time": "2021-09-30T19:51:40.832529",
     "exception": false,
     "start_time": "2021-09-30T19:51:40.791488",
     "status": "completed"
    },
    "tags": []
   },
   "source": [
    "### Random Forest Model - Feature Importance Discussion"
   ]
  },
  {
   "cell_type": "code",
   "execution_count": 38,
   "id": "cd529e46",
   "metadata": {
    "execution": {
     "iopub.execute_input": "2021-09-30T19:51:40.919888Z",
     "iopub.status.busy": "2021-09-30T19:51:40.918975Z",
     "iopub.status.idle": "2021-09-30T19:51:42.151753Z",
     "shell.execute_reply": "2021-09-30T19:51:42.151213Z",
     "shell.execute_reply.started": "2021-09-30T06:02:26.178486Z"
    },
    "papermill": {
     "duration": 1.277163,
     "end_time": "2021-09-30T19:51:42.151892",
     "exception": false,
     "start_time": "2021-09-30T19:51:40.874729",
     "status": "completed"
    },
    "tags": []
   },
   "outputs": [
    {
     "name": "stdout",
     "output_type": "stream",
     "text": [
      "Feature importance ranking by Random Forest Model:\n",
      "total_day_minutes: 0.1516\n",
      "total_day_charge: 0.1376\n",
      "number_customer_service_calls: 0.1186\n",
      "intl_plan: 0.0868\n",
      "total_eve_minutes: 0.0668\n",
      "total_eve_charge: 0.0647\n",
      "total_intl_calls: 0.0561\n",
      "total_intl_minutes: 0.0416\n",
      "total_intl_charge: 0.0399\n",
      "total_night_minutes: 0.0397\n",
      "total_night_charge: 0.0391\n",
      "total_night_calls: 0.0277\n",
      "total_day_calls: 0.0272\n",
      "account_length: 0.027\n",
      "number_vmail_messages: 0.0264\n",
      "voice_mail_plan: 0.0251\n",
      "total_eve_calls: 0.0239\n"
     ]
    }
   ],
   "source": [
    "# check feature importance of random forest for feature selection\n",
    "forest = RandomForestClassifier()\n",
    "forest.fit(X, y)\n",
    "\n",
    "importances = forest.feature_importances_\n",
    "\n",
    "# Print the feature ranking\n",
    "print(\"Feature importance ranking by Random Forest Model:\")\n",
    "for k,v in sorted(zip(map(lambda x: round(x, 4), importances), features.columns), reverse=True):\n",
    "    print (v + \": \" + str(k))"
   ]
  },
  {
   "cell_type": "code",
   "execution_count": null,
   "id": "6221dbc3",
   "metadata": {
    "papermill": {
     "duration": 0.041113,
     "end_time": "2021-09-30T19:51:42.234865",
     "exception": false,
     "start_time": "2021-09-30T19:51:42.193752",
     "status": "completed"
    },
    "tags": []
   },
   "outputs": [],
   "source": []
  },
  {
   "cell_type": "code",
   "execution_count": null,
   "id": "0155fc16",
   "metadata": {
    "papermill": {
     "duration": 0.041214,
     "end_time": "2021-09-30T19:51:42.318506",
     "exception": false,
     "start_time": "2021-09-30T19:51:42.277292",
     "status": "completed"
    },
    "tags": []
   },
   "outputs": [],
   "source": []
  }
 ],
 "metadata": {
  "kernelspec": {
   "display_name": "Python 3",
   "language": "python",
   "name": "python3"
  },
  "language_info": {
   "codemirror_mode": {
    "name": "ipython",
    "version": 3
   },
   "file_extension": ".py",
   "mimetype": "text/x-python",
   "name": "python",
   "nbconvert_exporter": "python",
   "pygments_lexer": "ipython3",
   "version": "3.7.10"
  },
  "papermill": {
   "default_parameters": {},
   "duration": 52.80425,
   "end_time": "2021-09-30T19:51:43.527568",
   "environment_variables": {},
   "exception": null,
   "input_path": "__notebook__.ipynb",
   "output_path": "__notebook__.ipynb",
   "parameters": {},
   "start_time": "2021-09-30T19:50:50.723318",
   "version": "2.3.3"
  }
 },
 "nbformat": 4,
 "nbformat_minor": 5
}
